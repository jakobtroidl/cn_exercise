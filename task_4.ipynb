{
 "cells": [
  {
   "cell_type": "code",
   "execution_count": 221,
   "metadata": {
    "collapsed": true
   },
   "outputs": [],
   "source": [
    "import numpy as np\n",
    "import matplotlib.pyplot as plt"
   ]
  },
  {
   "cell_type": "code",
   "execution_count": 222,
   "outputs": [],
   "source": [
    "def function(x):\n",
    "    return np.sin(x)"
   ],
   "metadata": {
    "collapsed": false,
    "pycharm": {
     "name": "#%%\n"
    }
   }
  },
  {
   "cell_type": "markdown",
   "source": [
    "implementation of the atkin neville scheme"
   ],
   "metadata": {
    "collapsed": false,
    "pycharm": {
     "name": "#%% md\n"
    }
   }
  },
  {
   "cell_type": "code",
   "execution_count": 223,
   "outputs": [],
   "source": [
    "def aitken_neville(x,vals,x_bar):\n",
    "    n = len(x)-1\n",
    "    for m in range(1,n):\n",
    "        for j in range(0,n-m):\n",
    "            vals[j] = ((x_bar-x[j])*vals[j+1] - (x_bar-x[j+m])*vals[j])/(x[j+m]-x[j])\n",
    "    return vals[0]"
   ],
   "metadata": {
    "collapsed": false,
    "pycharm": {
     "name": "#%%\n"
    }
   }
  },
  {
   "cell_type": "markdown",
   "source": [
    "$D$ approximates the derivative of a function."
   ],
   "metadata": {
    "collapsed": false,
    "pycharm": {
     "name": "#%% md\n",
     "is_executing": true
    }
   },
   "outputs": [
    {
     "ename": "SyntaxError",
     "evalue": "invalid syntax (<ipython-input-81-45045891492c>, line 1)",
     "output_type": "error",
     "traceback": [
      "\u001B[0;36m  File \u001B[0;32m\"<ipython-input-81-45045891492c>\"\u001B[0;36m, line \u001B[0;32m1\u001B[0m\n\u001B[0;31m    $$D$$ approximates the derivative of a function.\u001B[0m\n\u001B[0m    ^\u001B[0m\n\u001B[0;31mSyntaxError\u001B[0m\u001B[0;31m:\u001B[0m invalid syntax\n"
     ]
    }
   ]
  },
  {
   "cell_type": "code",
   "execution_count": 224,
   "outputs": [],
   "source": [
    "def D(x_, h):\n",
    "    return (function(x_ + h) - function(x_)) / h"
   ],
   "metadata": {
    "collapsed": false,
    "pycharm": {
     "name": "#%%\n"
    }
   }
  },
  {
   "cell_type": "markdown",
   "source": [
    "Compute the error between the approximated derivative and the real derivative. Since we can not compute\n",
    "the derivative $D$ of $f$ (division by $h = 0$), we use small values of $h$ and approximate the derivative using the atkin neville scheme.\n",
    "Then we can extrapolate the derivative by looking at $h = 0$."
   ],
   "metadata": {
    "collapsed": false,
    "pycharm": {
     "name": "#%% md\n"
    }
   }
  },
  {
   "cell_type": "code",
   "execution_count": 225,
   "outputs": [],
   "source": [
    "def diff(q):\n",
    "    x = np.pi\n",
    "    n = 11\n",
    "    err = []\n",
    "    for k in range(1, n): # generate interpolation points with different h\n",
    "        h = [q**i for i in range(0,k)]\n",
    "        f = [D(x,i) for i in h] # compute interpolation y values\n",
    "        res = aitken_neville(h, f, 0) # extrapolate at position 0\n",
    "        e = np.cos(x)-res # compare the result of the approximation with the real derivative value at x\n",
    "        err.append(abs(e))\n",
    "    return err"
   ],
   "metadata": {
    "collapsed": false,
    "pycharm": {
     "name": "#%%\n"
    }
   }
  },
  {
   "cell_type": "markdown",
   "source": [
    "compute the errors for different values of $q$"
   ],
   "metadata": {
    "collapsed": false,
    "pycharm": {
     "name": "#%% md\n",
     "is_executing": true
    }
   },
   "outputs": [
    {
     "ename": "SyntaxError",
     "evalue": "invalid syntax (<ipython-input-147-78cae862b5f2>, line 1)",
     "output_type": "error",
     "traceback": [
      "\u001B[0;36m  File \u001B[0;32m\"<ipython-input-147-78cae862b5f2>\"\u001B[0;36m, line \u001B[0;32m1\u001B[0m\n\u001B[0;31m    compute the errors for different values of $$q$$\u001B[0m\n\u001B[0m            ^\u001B[0m\n\u001B[0;31mSyntaxError\u001B[0m\u001B[0;31m:\u001B[0m invalid syntax\n"
     ]
    }
   ]
  },
  {
   "cell_type": "code",
   "execution_count": 226,
   "outputs": [
    {
     "data": {
      "text/plain": "<Figure size 432x288 with 1 Axes>",
      "image/png": "[encoded data removed]"
     },
     "metadata": {
      "needs_background": "light"
     },
     "output_type": "display_data"
    }
   ],
   "source": [
    "errors1 = diff(0.8)\n",
    "errors2 = diff(0.6)\n",
    "errors3 = diff(0.5)\n",
    "errors4 = diff(0.1)\n",
    "\n",
    "plt.yscale(\"log\")\n",
    "plt.xlabel(\"points\")\n",
    "plt.ylabel(\"error\")\n",
    "plt.plot (range(1,len(errors1)+1), errors1, label=\"q=0.8\")\n",
    "plt.plot (range(1,len(errors2)+1), errors2, label=\"q=0.6'\")\n",
    "plt.plot (range(1,len(errors3)+1), errors3, label=\"q=0.5\")\n",
    "plt.plot (range(1,len(errors4)+1), errors4, label=\"q=0.1\")\n",
    "plt.legend()\n",
    "plt.show()"
   ],
   "metadata": {
    "collapsed": false,
    "pycharm": {
     "name": "#%%\n"
    }
   }
  },
  {
   "cell_type": "markdown",
   "source": [
    "The smaller $q$ the faster the error converges. However, if $q$ is too\n",
    "small the error is not stable for a higher number of interpolation points\n",
    "and increases again. The best reachable accuracy can be achieved by using $q=0.5$.\n"
   ],
   "metadata": {
    "collapsed": false,
    "pycharm": {
     "name": "#%% md\n",
     "is_executing": true
    }
   },
   "outputs": [
    {
     "ename": "SyntaxError",
     "evalue": "invalid syntax (<ipython-input-178-f3172713d40c>, line 1)",
     "output_type": "error",
     "traceback": [
      "\u001B[0;36m  File \u001B[0;32m\"<ipython-input-178-f3172713d40c>\"\u001B[0;36m, line \u001B[0;32m1\u001B[0m\n\u001B[0;31m    The smaller $q$ the faster the error converges. However, if $q$ is too small\u001B[0m\n\u001B[0m        ^\u001B[0m\n\u001B[0;31mSyntaxError\u001B[0m\u001B[0;31m:\u001B[0m invalid syntax\n"
     ]
    }
   ]
  }
 ],
 "metadata": {
  "kernelspec": {
   "display_name": "Python 3",
   "language": "python",
   "name": "python3"
  },
  "language_info": {
   "codemirror_mode": {
    "name": "ipython",
    "version": 2
   },
   "file_extension": ".py",
   "mimetype": "text/x-python",
   "name": "python",
   "nbconvert_exporter": "python",
   "pygments_lexer": "ipython2",
   "version": "2.7.6"
  }
 },
 "nbformat": 4,
 "nbformat_minor": 0
}