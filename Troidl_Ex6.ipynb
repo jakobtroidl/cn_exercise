{
 "cells": [
  {
   "cell_type": "code",
   "execution_count": 1,
   "metadata": {
    "collapsed": true
   },
   "outputs": [],
   "source": [
    "import numpy as np\n",
    "from numpy import random\n",
    "import matplotlib.pyplot as plt\n",
    "import scipy.linalg as la\n",
    "import time"
   ]
  },
  {
   "cell_type": "markdown",
   "source": [
    "### Task 21\n",
    "LU and cholesky decompositions"
   ],
   "metadata": {
    "collapsed": false,
    "pycharm": {
     "name": "#%% md\n"
    }
   }
  },
  {
   "cell_type": "code",
   "execution_count": 2,
   "outputs": [],
   "source": [
    "n = 50 # 4000\n",
    "\n",
    "def frobenius(M):\n",
    "    return np.sqrt(np.sum(np.power(M,2)))\n",
    "\n",
    "def compute_lu_error(M, P, L, U):\n",
    "    P_Inv = la.inv(P)\n",
    "    L_Inv = la.inv(L)\n",
    "    U_Inv = la.inv(U)\n",
    "\n",
    "    M_Inv =  np.dot(np.dot(U_Inv, L_Inv), P_Inv)\n",
    "\n",
    "    return frobenius(np.dot(M, M_Inv) - np.identity(n))\n",
    "\n",
    "def compute_cholesky_error(M, L):\n",
    "    L_Inv = la.inv(L)\n",
    "    LT_Inv = la.inv(np.transpose(L))\n",
    "\n",
    "    M_Inv = np.dot(LT_Inv, L_Inv)\n",
    "\n",
    "    return frobenius(np.dot(M, M_Inv) - np.identity(n))"
   ],
   "metadata": {
    "collapsed": false,
    "pycharm": {
     "name": "#%%\n"
    }
   }
  },
  {
   "cell_type": "markdown",
   "source": [
    "init tridiagonal matrix A"
   ],
   "metadata": {
    "collapsed": false
   }
  },
  {
   "cell_type": "code",
   "execution_count": 3,
   "outputs": [],
   "source": [
    "A = np.zeros((n, n))\n",
    "for i in range(0, n):\n",
    "    for j in range(0, n):\n",
    "        if i == j:\n",
    "            A[i][j] = 2\n",
    "        if i == j + 1 or i + 1 == j:\n",
    "            A[i][j] = -1"
   ],
   "metadata": {
    "collapsed": false,
    "pycharm": {
     "name": "#%%\n"
    }
   }
  },
  {
   "cell_type": "markdown",
   "source": [
    "Hermitian matrix with $a_{ij} = a_{ji}$"
   ],
   "metadata": {
    "collapsed": false,
    "pycharm": {
     "name": "#%% md\n"
    }
   }
  },
  {
   "cell_type": "code",
   "execution_count": 4,
   "outputs": [],
   "source": [
    "B = np.zeros((n, n))\n",
    "for i in range(0, n):\n",
    "    for j in range(0, n):\n",
    "        rand = random.rand(1)\n",
    "        B[i][j] = rand\n",
    "        B[j][i] = rand"
   ],
   "metadata": {
    "collapsed": false,
    "pycharm": {
     "name": "#%%\n"
    }
   }
  },
  {
   "cell_type": "markdown",
   "source": [
    "Compute LU decomposition"
   ],
   "metadata": {
    "collapsed": false,
    "pycharm": {
     "name": "#%% md\n"
    }
   }
  },
  {
   "cell_type": "code",
   "execution_count": 5,
   "outputs": [
    {
     "name": "stdout",
     "output_type": "stream",
     "text": [
      "Time for LU decomposition of A:  0.0010428428649902344\n",
      "LU error for A: 1.1991552630392586e-13\n",
      "Time for LU decomposition of A:  0.0007338523864746094\n",
      "LU error for B: 7.367241489948741e-14\n"
     ]
    }
   ],
   "source": [
    "start = time.time()\n",
    "(P, L, U) = la.lu(A)\n",
    "end = time.time()\n",
    "\n",
    "print(\"Time for LU decomposition of A: \", end - start)\n",
    "print(\"LU error for A:\", compute_lu_error(A, P, L, U))\n",
    "\n",
    "start = time.time()\n",
    "(P, L, U) = la.lu(B)\n",
    "end = time.time()\n",
    "\n",
    "print(\"Time for LU decomposition of A: \", end - start)\n",
    "print(\"LU error for B:\", compute_lu_error(B, P, L, U))"
   ],
   "metadata": {
    "collapsed": false,
    "pycharm": {
     "name": "#%%\n"
    }
   }
  },
  {
   "cell_type": "code",
   "execution_count": 6,
   "outputs": [
    {
     "name": "stdout",
     "output_type": "stream",
     "text": [
      "Cholesky error for A:  1.6317663868652215e-13\n",
      "Cholesky error for B:  4.689839892244104e-12\n"
     ]
    }
   ],
   "source": [
    "L = la.cholesky(A, lower=True, overwrite_a=False, check_finite=True)\n",
    "print(\"Cholesky error for A: \" , compute_cholesky_error(A, L))\n",
    "\n",
    "B = B @ np.transpose(B)\n",
    "L = la.cholesky(B, lower=True, overwrite_a=False, check_finite=False)\n",
    "print(\"Cholesky error for B: \" , compute_cholesky_error(B, L))\n"
   ],
   "metadata": {
    "collapsed": false,
    "pycharm": {
     "name": "#%% Compute Cholesky decomposition\n"
    }
   }
  },
  {
   "cell_type": "markdown",
   "source": [
    "### Task 23\n",
    "Solver using recursive blocking"
   ],
   "metadata": {
    "collapsed": false,
    "pycharm": {
     "name": "#%% md\n"
    }
   }
  },
  {
   "cell_type": "code",
   "execution_count": 7,
   "outputs": [],
   "source": [
    "def recursive_blocking(L, Y):\n",
    "    n = Y.shape[0]\n",
    "\n",
    "    L11 = L[0 : n//2, 0 : n//2]\n",
    "    L21 = L[n//2 :, 0 : n//2]\n",
    "    L22 = L[n//2 :, n//2 :]\n",
    "\n",
    "    if n == 2:\n",
    "        # step 1\n",
    "        Y[0:n//2, :] = Y[0:n//2, :] / L11\n",
    "        # step 2\n",
    "        r1 = Y[n//2:, :] - np.dot(L21, Y[0 : n//2, :])\n",
    "        # step 3\n",
    "        Y[n//2:, :] = r1/L22\n",
    "    else:\n",
    "        # step 1\n",
    "        Y[0:n//2, :] = recursive_blocking(L11, Y[0:n//2, :])\n",
    "        # step 2\n",
    "        r1 = Y[n//2:, :] - np.dot(L21,Y[0:n//2, :])\n",
    "        # step 3\n",
    "        Y[n//2:, :] = recursive_blocking(L22, r1)\n",
    "\n",
    "    return Y"
   ],
   "metadata": {
    "collapsed": false,
    "pycharm": {
     "name": "#%%\n"
    }
   }
  },
  {
   "cell_type": "markdown",
   "source": [
    "Initialize L and Y\n",
    "\n",
    "$O(n^3)$ because fast matrix multiplication is in $O(n^2)$ and we execute that for each $n$ blocks."
   ],
   "metadata": {
    "collapsed": false,
    "pycharm": {
     "name": "#%% md\n"
    }
   }
  },
  {
   "cell_type": "code",
   "execution_count": 8,
   "outputs": [
    {
     "name": "stdout",
     "output_type": "stream",
     "text": [
      "size  4 :  0.0  sec\n",
      "size  8 :  0.0  sec\n",
      "size  16 :  0.0  sec\n",
      "size  32 :  0.0  sec\n",
      "size  64 :  0.0  sec\n",
      "size  128 :  0.0  sec\n",
      "size  256 :  0.01  sec\n",
      "size  512 :  0.02  sec\n",
      "size  1024 :  0.1  sec\n",
      "size  2048 :  0.64  sec\n",
      "size  4096 :  2.38  sec\n",
      "size  8192 :  14.97  sec\n"
     ]
    },
    {
     "data": {
      "text/plain": "<Figure size 432x288 with 1 Axes>",
      "image/png": "[encoded data removed]"
     },
     "metadata": {
      "needs_background": "light"
     },
     "output_type": "display_data"
    }
   ],
   "source": [
    "N = [2**i for i in range(2, 14)]\n",
    "FLOPS = np.zeros(len(N))\n",
    "\n",
    "for k in range(0, len(N)):\n",
    "\n",
    "    n = N[k]\n",
    "    Y = np.zeros((n,n))\n",
    "\n",
    "    for i in range(0, n):\n",
    "        for j in range(0, n):\n",
    "            Y[i][j] = random.rand(1)\n",
    "\n",
    "    T = np.copy(Y)\n",
    "    P, L, U = la.lu(T)\n",
    "\n",
    "    start = time.time()\n",
    "    X = recursive_blocking(L, Y)\n",
    "    end = time.time()\n",
    "\n",
    "    print(\"size \", n, \": \", round(end - start, 2), \" sec\")\n",
    "\n",
    "    flops = n**3 / (end-start) * 1e-9\n",
    "    FLOPS[k] = flops\n",
    "\n",
    "plt.plot(N, FLOPS)\n",
    "plt.show()"
   ],
   "metadata": {
    "collapsed": false,
    "pycharm": {
     "name": "#%%\n"
    }
   }
  },
  {
   "cell_type": "markdown",
   "source": [
    "### Task 24\n",
    "Cholesky factorization for tridiagonal block matrices"
   ],
   "metadata": {
    "collapsed": false,
    "pycharm": {
     "name": "#%% md\n"
    }
   }
  },
  {
   "cell_type": "markdown",
   "source": [
    "Compute blockwise cholesky factorization"
   ],
   "metadata": {
    "collapsed": false,
    "pycharm": {
     "name": "#%% md\n"
    }
   }
  },
  {
   "cell_type": "code",
   "execution_count": 9,
   "outputs": [],
   "source": [
    "def factorization(A):\n",
    "    L = np.copy(A)\n",
    "    L[0] = la.cholesky(A[0], lower=True)\n",
    "    # always iterative: off diagonal element and diagonal element\n",
    "    for i in range(1,len(A),2):\n",
    "        # step 2: off diagonal element Li-1,i = Ai-1,i*(Li-1,i-1^T)^-1, eg L21 = A21*(L11^T)^-1\n",
    "        L[i] = np.dot(A[i], np.linalg.inv(L[i-1].transpose()))\n",
    "        # step 3: diagonal elements Aii = Li,i-1Li,i-1^T * Lii*Lii^T, eg L22*L22^T = A22 - L21*L21^T\n",
    "        L[i+1] = la.cholesky(A[i+1] - np.dot(L[i], L[i].transpose()), lower=True)\n",
    "\n",
    "\n",
    "\n",
    "def chol_fact(A):\n",
    "    L = np.copy(A)\n",
    "    L[0] = la.cholesky(A[0], lower=True)\n",
    "    for i in range(1,len(A),2):\n",
    "        L[i] = np.dot(A[i], la.inv(np.transpose(L[i-1])))\n",
    "        L[i+1] = la.cholesky(A[i+1] - np.dot(L[i], np.transpose(L[i])))\n",
    "    return L"
   ],
   "metadata": {
    "collapsed": false,
    "pycharm": {
     "name": "#%%\n"
    }
   }
  },
  {
   "cell_type": "markdown",
   "source": [
    "Compute Matrix A"
   ],
   "metadata": {
    "collapsed": false,
    "pycharm": {
     "name": "#%% md\n"
    }
   }
  },
  {
   "cell_type": "code",
   "execution_count": 10,
   "outputs": [],
   "source": [
    "def A(m, n):\n",
    "    Aii = np.identity(m) * 4 #\n",
    "    u = np.diagflat(np.linspace(-1, -1, m - 1) , 1)\n",
    "    l = np.diagflat(np.linspace(-1, -1, m - 1) , -1)\n",
    "    Aii = Aii + u + l\n",
    "\n",
    "    Aij = -np.identity(m)\n",
    "\n",
    "    # assemble matrix in list\n",
    "    A = []\n",
    "    for i in range(0, n):\n",
    "        for j in range(0, n):\n",
    "            if i == j:\n",
    "                A.append(Aii)\n",
    "            elif j == i + 1:\n",
    "                A.append(Aij)\n",
    "    return A"
   ],
   "metadata": {
    "collapsed": false,
    "pycharm": {
     "name": "#%%\n"
    }
   }
  },
  {
   "cell_type": "code",
   "execution_count": 11,
   "outputs": [
    {
     "name": "stdout",
     "output_type": "stream",
     "text": [
      "[[[ 2.          0.          0.          0.        ]\n",
      "  [-0.5         1.93649167  0.          0.        ]\n",
      "  [ 0.         -0.51639778  1.93218357  0.        ]\n",
      "  [ 0.          0.         -0.51754917  1.93187548]]\n",
      "\n",
      " [[-0.5        -0.12909944 -0.03450328 -0.00924342]\n",
      "  [ 0.         -0.51639778 -0.13801311 -0.03697369]\n",
      "  [ 0.          0.         -0.51754917 -0.13865135]\n",
      "  [ 0.          0.          0.         -0.51763171]]\n",
      "\n",
      " [[ 1.93185336 -0.55478866 -0.00990694 -0.00247674]\n",
      "  [ 0.          1.84529895 -0.58638265 -0.01111626]\n",
      "  [ 0.          0.          1.83547702 -0.58748393]\n",
      "  [ 0.          0.          0.          1.84032343]]\n",
      "\n",
      " [[-0.51763763  0.          0.          0.        ]\n",
      "  [-0.15562762 -0.54191761  0.          0.        ]\n",
      "  [-0.05251253 -0.17312725 -0.5448175   0.        ]\n",
      "  [-0.0184002  -0.05854056 -0.17392134 -0.54338275]]\n",
      "\n",
      " [[ 1.93185178 -0.55933831 -0.01407068 -0.00493031]\n",
      "  [ 0.          1.8355506  -0.60464875 -0.02034564]\n",
      "  [ 0.          0.          1.81786831 -0.61513143]\n",
      "  [ 0.          0.          0.          1.81435831]]]\n"
     ]
    }
   ],
   "source": [
    "n = 3 # outter matrix size\n",
    "m = 4 # matrix block size\n",
    "\n",
    "A = A(m, n)\n",
    "L = chol_fact(A)\n",
    "\n",
    "print(L)\n"
   ],
   "metadata": {
    "collapsed": false,
    "pycharm": {
     "name": "#%%\n"
    }
   }
  },
  {
   "cell_type": "markdown",
   "source": [
    "We need to solve $LL^{T}U = h^{2}f$. $L$ is a lower triangular matrix which we can solve using forward substitution.\n",
    "$L_{T}$ is a upper triangular matrix, which we can solve using backward substitution\n",
    "Question: what is $h^{2}$, U is a matrix, how do you apply back and forward substitution with a matrix."
   ],
   "metadata": {
    "collapsed": false,
    "pycharm": {
     "name": "#%% md\n"
    }
   }
  }
 ],
 "metadata": {
  "kernelspec": {
   "display_name": "Python 3",
   "language": "python",
   "name": "python3"
  },
  "language_info": {
   "codemirror_mode": {
    "name": "ipython",
    "version": 2
   },
   "file_extension": ".py",
   "mimetype": "text/x-python",
   "name": "python",
   "nbconvert_exporter": "python",
   "pygments_lexer": "ipython2",
   "version": "2.7.6"
  }
 },
 "nbformat": 4,
 "nbformat_minor": 0
}