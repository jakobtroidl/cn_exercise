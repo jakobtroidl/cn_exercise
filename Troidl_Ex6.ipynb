{
 "cells": [
  {
   "cell_type": "code",
   "execution_count": 31,
   "metadata": {
    "collapsed": true
   },
   "outputs": [],
   "source": [
    "import numpy as np\n",
    "from numpy import random\n",
    "import matplotlib.pyplot as plt\n",
    "import scipy.linalg as la\n",
    "import time"
   ]
  },
  {
   "cell_type": "markdown",
   "source": [
    "### Task 21\n",
    "LU and cholesky decompositions"
   ],
   "metadata": {
    "collapsed": false,
    "pycharm": {
     "name": "#%% md\n"
    }
   }
  },
  {
   "cell_type": "code",
   "execution_count": 32,
   "outputs": [],
   "source": [
    "n = 100\n",
    "\n",
    "##%%\n",
    "def frobenius(M):\n",
    "    return np.sqrt(np.sum(np.power(M,2)))\n",
    "\n",
    "def compute_lu_error(M, P, L, U):\n",
    "    P_Inv = la.inv(P)\n",
    "    L_Inv = la.inv(L)\n",
    "    U_Inv = la.inv(U)\n",
    "\n",
    "    M_Inv =  np.dot(np.dot(U_Inv, L_Inv), P_Inv)\n",
    "\n",
    "    return frobenius(np.dot(M, M_Inv) - np.identity(n))\n",
    "\n",
    "def compute_cholesky_error(M, L):\n",
    "    L_Inv = la.inv(L)\n",
    "    LT_Inv = la.inv(np.transpose(L))\n",
    "\n",
    "    M_Inv = np.dot(LT_Inv, L_Inv)\n",
    "\n",
    "    return frobenius(np.dot(M, M_Inv) - np.identity(n))"
   ],
   "metadata": {
    "collapsed": false,
    "pycharm": {
     "name": "#%%\n"
    }
   }
  },
  {
   "cell_type": "markdown",
   "source": [
    "init tridiagonal matrix A"
   ],
   "metadata": {
    "collapsed": false
   }
  },
  {
   "cell_type": "code",
   "execution_count": 33,
   "outputs": [],
   "source": [
    "A = np.zeros((n, n))\n",
    "for i in range(0, n):\n",
    "    for j in range(0, n):\n",
    "        if i == j:\n",
    "            A[i][j] = 2\n",
    "        if i == j + 1 or i + 1 == j:\n",
    "            A[i][j] = -1\n",
    "            A[i][j] = -1"
   ],
   "metadata": {
    "collapsed": false,
    "pycharm": {
     "name": "#%%\n"
    }
   }
  },
  {
   "cell_type": "markdown",
   "source": [
    "Hermitian matrix with $a_{ij} = a_{ji}$"
   ],
   "metadata": {
    "collapsed": false,
    "pycharm": {
     "name": "#%% md\n"
    }
   }
  },
  {
   "cell_type": "code",
   "execution_count": 34,
   "outputs": [],
   "source": [
    "B = np.zeros((n, n))\n",
    "for i in range(0, n):\n",
    "    for j in range(0, n):\n",
    "        rand = random.rand(1)\n",
    "        B[i][j] = rand\n",
    "        B[j][i] = rand"
   ],
   "metadata": {
    "collapsed": false,
    "pycharm": {
     "name": "#%%\n"
    }
   }
  },
  {
   "cell_type": "markdown",
   "source": [
    "Compute LU decomposition"
   ],
   "metadata": {
    "collapsed": false,
    "pycharm": {
     "name": "#%% md\n"
    }
   }
  },
  {
   "cell_type": "code",
   "execution_count": 35,
   "outputs": [
    {
     "name": "stdout",
     "output_type": "stream",
     "text": [
      "Time for LU decomposition of A:  0.0201570987701416\n",
      "LU error for A: 6.765944726212899e-13\n",
      "Time for LU decomposition of A:  0.0013446807861328125\n",
      "LU error for B: 8.097450162167744e-11\n"
     ]
    }
   ],
   "source": [
    "start = time.time()\n",
    "(P, L, U) = la.lu(A)\n",
    "end = time.time()\n",
    "\n",
    "print(\"Time for LU decomposition of A: \", end - start)\n",
    "print(\"LU error for A:\", compute_lu_error(A, P, L, U))\n",
    "\n",
    "start = time.time()\n",
    "(P, L, U) = la.lu(B)\n",
    "end = time.time()\n",
    "\n",
    "print(\"Time for LU decomposition of A: \", end - start)\n",
    "print(\"LU error for B:\", compute_lu_error(B, P, L, U))"
   ],
   "metadata": {
    "collapsed": false,
    "pycharm": {
     "name": "#%%\n"
    }
   }
  },
  {
   "cell_type": "code",
   "execution_count": 36,
   "outputs": [
    {
     "name": "stdout",
     "output_type": "stream",
     "text": [
      "Cholesky error for A:  9.3419263010049e-13\n"
     ]
    },
    {
     "ename": "LinAlgError",
     "evalue": "2-th leading minor of the array is not positive definite",
     "output_type": "error",
     "traceback": [
      "\u001B[0;31m---------------------------------------------------------------------------\u001B[0m",
      "\u001B[0;31mLinAlgError\u001B[0m                               Traceback (most recent call last)",
      "\u001B[0;32m<ipython-input-36-472610dd10b5>\u001B[0m in \u001B[0;36m<module>\u001B[0;34m\u001B[0m\n\u001B[1;32m      3\u001B[0m \u001B[0;34m\u001B[0m\u001B[0m\n\u001B[1;32m      4\u001B[0m \u001B[0;34m\u001B[0m\u001B[0m\n\u001B[0;32m----> 5\u001B[0;31m \u001B[0mL\u001B[0m \u001B[0;34m=\u001B[0m \u001B[0mla\u001B[0m\u001B[0;34m.\u001B[0m\u001B[0mcholesky\u001B[0m\u001B[0;34m(\u001B[0m\u001B[0mB\u001B[0m\u001B[0;34m,\u001B[0m \u001B[0mlower\u001B[0m\u001B[0;34m=\u001B[0m\u001B[0;32mTrue\u001B[0m\u001B[0;34m,\u001B[0m \u001B[0moverwrite_a\u001B[0m\u001B[0;34m=\u001B[0m\u001B[0;32mFalse\u001B[0m\u001B[0;34m,\u001B[0m \u001B[0mcheck_finite\u001B[0m\u001B[0;34m=\u001B[0m\u001B[0;32mFalse\u001B[0m\u001B[0;34m)\u001B[0m\u001B[0;34m\u001B[0m\u001B[0;34m\u001B[0m\u001B[0m\n\u001B[0m\u001B[1;32m      6\u001B[0m \u001B[0mprint\u001B[0m\u001B[0;34m(\u001B[0m\u001B[0;34m\"Cholesky error for B: \"\u001B[0m \u001B[0;34m,\u001B[0m \u001B[0mcompute_cholesky_error\u001B[0m\u001B[0;34m(\u001B[0m\u001B[0mB\u001B[0m\u001B[0;34m,\u001B[0m \u001B[0mL\u001B[0m\u001B[0;34m)\u001B[0m\u001B[0;34m)\u001B[0m\u001B[0;34m\u001B[0m\u001B[0;34m\u001B[0m\u001B[0m\n\u001B[1;32m      7\u001B[0m \u001B[0;34m\u001B[0m\u001B[0m\n",
      "\u001B[0;32m~/Desktop/cn_exercise/venv/lib/python3.8/site-packages/scipy/linalg/decomp_cholesky.py\u001B[0m in \u001B[0;36mcholesky\u001B[0;34m(a, lower, overwrite_a, check_finite)\u001B[0m\n\u001B[1;32m     86\u001B[0m \u001B[0;34m\u001B[0m\u001B[0m\n\u001B[1;32m     87\u001B[0m     \"\"\"\n\u001B[0;32m---> 88\u001B[0;31m     c, lower = _cholesky(a, lower=lower, overwrite_a=overwrite_a, clean=True,\n\u001B[0m\u001B[1;32m     89\u001B[0m                          check_finite=check_finite)\n\u001B[1;32m     90\u001B[0m     \u001B[0;32mreturn\u001B[0m \u001B[0mc\u001B[0m\u001B[0;34m\u001B[0m\u001B[0;34m\u001B[0m\u001B[0m\n",
      "\u001B[0;32m~/Desktop/cn_exercise/venv/lib/python3.8/site-packages/scipy/linalg/decomp_cholesky.py\u001B[0m in \u001B[0;36m_cholesky\u001B[0;34m(a, lower, overwrite_a, clean, check_finite)\u001B[0m\n\u001B[1;32m     35\u001B[0m     \u001B[0mc\u001B[0m\u001B[0;34m,\u001B[0m \u001B[0minfo\u001B[0m \u001B[0;34m=\u001B[0m \u001B[0mpotrf\u001B[0m\u001B[0;34m(\u001B[0m\u001B[0ma1\u001B[0m\u001B[0;34m,\u001B[0m \u001B[0mlower\u001B[0m\u001B[0;34m=\u001B[0m\u001B[0mlower\u001B[0m\u001B[0;34m,\u001B[0m \u001B[0moverwrite_a\u001B[0m\u001B[0;34m=\u001B[0m\u001B[0moverwrite_a\u001B[0m\u001B[0;34m,\u001B[0m \u001B[0mclean\u001B[0m\u001B[0;34m=\u001B[0m\u001B[0mclean\u001B[0m\u001B[0;34m)\u001B[0m\u001B[0;34m\u001B[0m\u001B[0;34m\u001B[0m\u001B[0m\n\u001B[1;32m     36\u001B[0m     \u001B[0;32mif\u001B[0m \u001B[0minfo\u001B[0m \u001B[0;34m>\u001B[0m \u001B[0;36m0\u001B[0m\u001B[0;34m:\u001B[0m\u001B[0;34m\u001B[0m\u001B[0;34m\u001B[0m\u001B[0m\n\u001B[0;32m---> 37\u001B[0;31m         raise LinAlgError(\"%d-th leading minor of the array is not positive \"\n\u001B[0m\u001B[1;32m     38\u001B[0m                           \"definite\" % info)\n\u001B[1;32m     39\u001B[0m     \u001B[0;32mif\u001B[0m \u001B[0minfo\u001B[0m \u001B[0;34m<\u001B[0m \u001B[0;36m0\u001B[0m\u001B[0;34m:\u001B[0m\u001B[0;34m\u001B[0m\u001B[0;34m\u001B[0m\u001B[0m\n",
      "\u001B[0;31mLinAlgError\u001B[0m: 2-th leading minor of the array is not positive definite"
     ]
    }
   ],
   "source": [
    "L = la.cholesky(A, lower=True, overwrite_a=False, check_finite=True)\n",
    "print(\"Cholesky error for A: \" , compute_cholesky_error(A, L))\n",
    "\n",
    "\n",
    "L = la.cholesky(B, lower=True, overwrite_a=False, check_finite=False)\n",
    "print(\"Cholesky error for B: \" , compute_cholesky_error(B, L))\n"
   ],
   "metadata": {
    "collapsed": false,
    "pycharm": {
     "name": "#%% Compute Cholsesky decomposition\n"
    }
   }
  },
  {
   "cell_type": "markdown",
   "source": [
    "Task 22"
   ],
   "metadata": {
    "collapsed": false,
    "pycharm": {
     "name": "#%% md\n"
    }
   }
  },
  {
   "cell_type": "code",
   "execution_count": null,
   "outputs": [],
   "source": [],
   "metadata": {
    "collapsed": false,
    "pycharm": {
     "name": "#%%\n"
    }
   }
  }
 ],
 "metadata": {
  "kernelspec": {
   "display_name": "Python 3",
   "language": "python",
   "name": "python3"
  },
  "language_info": {
   "codemirror_mode": {
    "name": "ipython",
    "version": 2
   },
   "file_extension": ".py",
   "mimetype": "text/x-python",
   "name": "python",
   "nbconvert_exporter": "python",
   "pygments_lexer": "ipython2",
   "version": "2.7.6"
  }
 },
 "nbformat": 4,
 "nbformat_minor": 0
}