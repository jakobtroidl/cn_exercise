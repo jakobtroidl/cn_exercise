{
 "cells": [
  {
   "cell_type": "code",
   "execution_count": 17,
   "outputs": [],
   "source": [
    "import os\n",
    "os.environ['OPENBLAS_NUM_THREADS'] = '1'"
   ],
   "metadata": {
    "collapsed": false,
    "pycharm": {
     "name": "#%%\n"
    }
   }
  },
  {
   "cell_type": "code",
   "execution_count": 18,
   "metadata": {
    "collapsed": true
   },
   "outputs": [],
   "source": [
    "import numpy as np\n",
    "import matplotlib.pyplot as plt\n",
    "import random\n",
    "import time"
   ]
  },
  {
   "cell_type": "markdown",
   "source": [
    "### Task 20\n",
    "Time measures for inner vector products, vector matrix products, and matrix matrix products"
   ],
   "metadata": {
    "collapsed": false,
    "pycharm": {
     "name": "#%% md\n"
    }
   }
  },
  {
   "cell_type": "code",
   "execution_count": 19,
   "outputs": [],
   "source": [
    "def vec_x_vec(n):\n",
    "    v1 = np.asarray([random.random() for _ in range(n)])\n",
    "    v2 = np.asarray([random.random() for _ in range(n)])\n",
    "    start = time.time()\n",
    "    res = np.dot(v1, v2)\n",
    "    end = time.time()\n",
    "\n",
    "    return end - start\n",
    "\n",
    "def mat_x_vec(n):\n",
    "    v1 = np.asarray([[random.random() for _ in range(n)] for i in range(n)])\n",
    "    v2 = np.asarray([random.random() for _ in range(n)])\n",
    "    start = time.time()\n",
    "    res = np.dot(v1, v2)\n",
    "    end = time.time()\n",
    "\n",
    "    return end - start\n",
    "\n",
    "def mat_x_mat(n):\n",
    "    v1 = np.asarray([[random.random() for _ in range(n)] for i in range(n)])\n",
    "    v2 = np.asarray([[random.random() for _ in range(n)] for i in range(n)])\n",
    "    start = time.time()\n",
    "    res = v1 @ v2\n",
    "    end = time.time()\n",
    "\n",
    "    return end - start"
   ],
   "metadata": {
    "collapsed": false,
    "pycharm": {
     "name": "#%%\n"
    }
   }
  },
  {
   "cell_type": "code",
   "execution_count": 20,
   "outputs": [
    {
     "data": {
      "text/plain": "<Figure size 432x288 with 1 Axes>",
      "image/png": "[encoded data removed]"
     },
     "metadata": {
      "needs_background": "light"
     },
     "output_type": "display_data"
    }
   ],
   "source": [
    "n = [2**i for i in range(2, 14)]\n",
    "\n",
    "vec_vec_times = np.zeros(len(n))\n",
    "mat_vec_times = np.zeros(len(n))\n",
    "mat_mat_times = np.zeros(len(n))\n",
    "\n",
    "for i in range(0, len(n)):\n",
    "    vec_vec_times[i] = vec_x_vec(n[i])\n",
    "    mat_vec_times[i] = mat_x_vec(n[i])\n",
    "    mat_mat_times[i] = mat_x_mat(n[i])\n",
    "\n",
    "plt.plot(n, vec_vec_times, label=\"v x v\")\n",
    "plt.plot(n, mat_vec_times, label=\"m x v\")\n",
    "plt.plot(n, mat_mat_times, label=\"m x m\")\n",
    "\n",
    "plt.title(\"Execution times for multiplication\")\n",
    "plt.xlabel(\"vector / matrix size\")\n",
    "plt.ylabel(\"execution time\")\n",
    "plt.xscale(\"symlog\")\n",
    "plt.legend()\n",
    "plt.show()"
   ],
   "metadata": {
    "collapsed": false,
    "pycharm": {
     "name": "#%%\n"
    }
   }
  }
 ],
 "metadata": {
  "kernelspec": {
   "display_name": "Python 3",
   "language": "python",
   "name": "python3"
  },
  "language_info": {
   "codemirror_mode": {
    "name": "ipython",
    "version": 2
   },
   "file_extension": ".py",
   "mimetype": "text/x-python",
   "name": "python",
   "nbconvert_exporter": "python",
   "pygments_lexer": "ipython2",
   "version": "2.7.6"
  }
 },
 "nbformat": 4,
 "nbformat_minor": 0
}