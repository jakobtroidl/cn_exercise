{
 "cells": [
  {
   "cell_type": "code",
   "execution_count": 266,
   "metadata": {
    "collapsed": true
   },
   "outputs": [],
   "source": [
    "import numpy as np\n",
    "import matplotlib.pyplot as plt"
   ]
  },
  {
   "cell_type": "markdown",
   "source": [
    "# Exercise sheet 2"
   ],
   "metadata": {
    "collapsed": false,
    "pycharm": {
     "name": "#%% md\n"
    }
   }
  },
  {
   "cell_type": "markdown",
   "source": [
    "## Task 1"
   ],
   "metadata": {
    "collapsed": false,
    "pycharm": {
     "name": "#%% md\n"
    }
   }
  },
  {
   "cell_type": "code",
   "execution_count": 267,
   "outputs": [],
   "source": [
    "def sin(x):\n",
    "    return np.sin(x)\n"
   ],
   "metadata": {
    "collapsed": false,
    "pycharm": {
     "name": "#%%\n"
    }
   }
  },
  {
   "cell_type": "code",
   "execution_count": 268,
   "outputs": [],
   "source": [
    "def f(pts, vals):\n",
    "    \"\"\"\n",
    "    Calculate coefficients of Newton interpol by\n",
    "    divided differences.\n",
    "\n",
    "    input:\n",
    "       pts ... list of points\n",
    "       val ... list of values\n",
    "\n",
    "    output:\n",
    "       divided differences\n",
    "    \"\"\"\n",
    "\n",
    "    n = len(pts)-1\n",
    "    dd = np.asarray(vals)\n",
    "    for i in range(n):\n",
    "        for j in range(n, i, -1):\n",
    "            # print (\"i =\",i, \", j =\",j)\n",
    "            dd[j] = (dd[j]-dd[j-1]) / (pts[j]-pts[j-i-1])\n",
    "    return dd\n"
   ],
   "metadata": {
    "collapsed": false,
    "pycharm": {
     "name": "#%% Newton polynomial\n"
    }
   }
  },
  {
   "cell_type": "markdown",
   "source": [
    "Hermite: $p(x) := f(x_{0}) + \\sum_{i = 1}^{n}f[x_{0}, ..., x_{i}] \\prod_{j=0}^{i - 1}(x-x_{j})$"
   ],
   "metadata": {
    "collapsed": false
   }
  },
  {
   "cell_type": "code",
   "execution_count": 269,
   "outputs": [],
   "source": [
    "def hermite(pts, vals, x):\n",
    "    fs = f(pts, vals) # divided differences\n",
    "    sum = 0\n",
    "    for i in range(1, len(pts)):\n",
    "        fi = fs[i]\n",
    "        prod = 1\n",
    "        for j in range(0, i):\n",
    "            prod *= (x - pts[j])\n",
    "        sum += fi * prod\n",
    "    return vals[0] + sum"
   ],
   "metadata": {
    "collapsed": false,
    "pycharm": {
     "name": "#%%\n"
    }
   }
  },
  {
   "cell_type": "code",
   "execution_count": 269,
   "outputs": [],
   "source": [],
   "metadata": {
    "collapsed": false,
    "pycharm": {
     "name": "#%%\n"
    }
   }
  },
  {
   "cell_type": "code",
   "source": [
    "pts = np.array([0, np.pi / 2, np.pi])\n",
    "val = sin(pts)\n",
    "\n",
    "x = np.linspace(0, np.pi, 100)\n",
    "y = hermite(pts, val, x)\n",
    "\n",
    "plt.plot(x, y, label=\"hermite\")\n",
    "\n",
    "y = np.sin(x)\n",
    "plt.plot(x, y, label=\"gt\")\n",
    "\n",
    "plt.title(\"sin(x)\")\n",
    "plt.legend()\n",
    "plt.show()"
   ],
   "metadata": {
    "collapsed": false,
    "pycharm": {
     "name": "#%%\n"
    }
   },
   "execution_count": 270,
   "outputs": [
    {
     "data": {
      "text/plain": "<Figure size 432x288 with 1 Axes>",
      "image/png": "[encoded data removed]"
     },
     "metadata": {
      "needs_background": "light"
     },
     "output_type": "display_data"
    }
   ]
  },
  {
   "cell_type": "markdown",
   "source": [
    "implementation of the atkin neville scheme"
   ],
   "metadata": {
    "collapsed": false
   }
  },
  {
   "cell_type": "code",
   "execution_count": 271,
   "outputs": [],
   "source": [
    "def aitken_neville(x,vals,x_bar):\n",
    "    n = len(x)-1\n",
    "    for m in range(1,n):\n",
    "        for j in range(0,n-m):\n",
    "            vals[j] = ((x_bar-x[j])*vals[j+1] - (x_bar-x[j+m])*vals[j])/(x[j+m]-x[j])\n",
    "    return vals[0]"
   ],
   "metadata": {
    "collapsed": false,
    "pycharm": {
     "name": "#%%\n"
    }
   }
  },
  {
   "cell_type": "markdown",
   "source": [
    "$D$ approximates the derivative of a function."
   ],
   "metadata": {
    "collapsed": false
   }
  },
  {
   "cell_type": "code",
   "execution_count": 272,
   "outputs": [],
   "source": [
    "def D(x_, h):\n",
    "    #print(np.around(pts, 2))\n",
    "    #print(np.around(val, 2))\n",
    "    return (hermite(pts, np.sin(pts), x_ + h) - hermite(pts, np.sin(pts), x_)) / h"
   ],
   "metadata": {
    "collapsed": false,
    "pycharm": {
     "name": "#%%\n"
    }
   }
  },
  {
   "cell_type": "markdown",
   "source": [
    "$D_{f,sym}$ also approximates the derivative of a function from both sides."
   ],
   "metadata": {
    "collapsed": false
   }
  },
  {
   "cell_type": "markdown",
   "source": [
    "Compute the error between the approximated derivative and the real derivative. Since we can not compute\n",
    "the derivative $D$ of $f$ (division by $h = 0$), we use small values of $h$ and approximate the derivative using the atkin neville scheme.\n",
    "Then we can extrapolate the derivative by looking at $h = 0$."
   ],
   "metadata": {
    "collapsed": false
   }
  },
  {
   "cell_type": "code",
   "execution_count": 273,
   "outputs": [],
   "source": [
    "def diff(q, x):\n",
    "    h = [q**i for i in range(0,20)]\n",
    "    ds = [D(x,i) for i in h] # compute interpolation y values\n",
    "    res = aitken_neville(h, ds, 0) # extrapolate at position 0\n",
    "    print(\"hermite: \", round(x, 2), \"->\",  round(res, 2))\n",
    "    print(\"gt:      \", round(x, 2), \"->\",  round(np.cos(x), 2))"
   ],
   "metadata": {
    "collapsed": false,
    "pycharm": {
     "name": "#%%\n"
    }
   }
  },
  {
   "cell_type": "markdown",
   "source": [
    "compute the errors for different values of $q$"
   ],
   "metadata": {
    "collapsed": false
   }
  },
  {
   "cell_type": "markdown",
   "source": [
    "Now we need to test whether $f(x_{i}) = p(x_{i})$ and $f'(x_{i}) = p'(x_{i})$"
   ],
   "metadata": {
    "collapsed": false,
    "pycharm": {
     "name": "#%% md\n"
    }
   }
  },
  {
   "cell_type": "code",
   "execution_count": 274,
   "outputs": [
    {
     "name": "stdout",
     "output_type": "stream",
     "text": [
      "hermite:  0 -> 1.27\n",
      "gt:       0 -> 1.0\n",
      "hermite:  1.57 -> 0.0\n",
      "gt:       1.57 -> 0.0\n",
      "hermite:  3.14 -> -1.27\n",
      "gt:       3.14 -> -1.0\n"
     ]
    }
   ],
   "source": [
    "x = 0\n",
    "q = 0.5\n",
    "diff(q, x)\n",
    "\n",
    "x = np.pi / 2\n",
    "diff(q, x)\n",
    "\n",
    "x = np.pi\n",
    "diff(q, x)"
   ],
   "metadata": {
    "collapsed": false,
    "pycharm": {
     "name": "#%%\n"
    }
   }
  }
 ],
 "metadata": {
  "kernelspec": {
   "display_name": "Python 3",
   "language": "python",
   "name": "python3"
  },
  "language_info": {
   "codemirror_mode": {
    "name": "ipython",
    "version": 2
   },
   "file_extension": ".py",
   "mimetype": "text/x-python",
   "name": "python",
   "nbconvert_exporter": "python",
   "pygments_lexer": "ipython2",
   "version": "2.7.6"
  }
 },
 "nbformat": 4,
 "nbformat_minor": 0
}