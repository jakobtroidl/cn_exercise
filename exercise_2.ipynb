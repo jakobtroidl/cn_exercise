{
 "cells": [
  {
   "cell_type": "code",
   "execution_count": 37,
   "metadata": {
    "collapsed": true
   },
   "outputs": [],
   "source": [
    "import numpy as np\n",
    "import matplotlib.pyplot as plt"
   ]
  },
  {
   "cell_type": "markdown",
   "source": [
    "# Exercise sheet 2"
   ],
   "metadata": {
    "collapsed": false,
    "pycharm": {
     "name": "#%% md\n"
    }
   }
  },
  {
   "cell_type": "markdown",
   "source": [
    "## Task 1"
   ],
   "metadata": {
    "collapsed": false,
    "pycharm": {
     "name": "#%% md\n"
    }
   }
  },
  {
   "cell_type": "code",
   "execution_count": 38,
   "outputs": [],
   "source": [
    "def sin(x):\n",
    "    return np.sin(x)\n"
   ],
   "metadata": {
    "collapsed": false,
    "pycharm": {
     "name": "#%%\n"
    }
   }
  },
  {
   "cell_type": "code",
   "execution_count": 39,
   "outputs": [],
   "source": [
    "def f(pts, vals):\n",
    "    \"\"\"\n",
    "    Calculate coefficients of Newton interpol by\n",
    "    divided differences.\n",
    "\n",
    "    input:\n",
    "       pts ... list of points\n",
    "       val ... list of values\n",
    "\n",
    "    output:\n",
    "       divided differences\n",
    "    \"\"\"\n",
    "\n",
    "    n = len(pts)-1\n",
    "    dd = np.asarray(vals)\n",
    "    for i in range(n):\n",
    "        for j in range(n, i, -1):\n",
    "            if pts[j] == pts[j - i - 1]:\n",
    "                dd[j] = np.cos(pts[j])\n",
    "            else:\n",
    "                # print (\"i =\",i, \", j =\",j)\n",
    "                dd[j] = (dd[j]-dd[j-1]) / (pts[j]-pts[j-i-1])\n",
    "    return dd\n"
   ],
   "metadata": {
    "collapsed": false,
    "pycharm": {
     "name": "#%% Newton polynomial\n"
    }
   }
  },
  {
   "cell_type": "markdown",
   "source": [
    "Hermite: $p(x) := f(x_{0}) + \\sum_{i = 1}^{n}f[x_{0}, ..., x_{i}] \\prod_{j=0}^{i - 1}(x-x_{j})$"
   ],
   "metadata": {
    "collapsed": false
   }
  },
  {
   "cell_type": "code",
   "execution_count": 40,
   "outputs": [],
   "source": [
    "def hermite(pts_, val_, x):\n",
    "    fs = f(pts_, val_) # divided differences\n",
    "    sum_ = 0\n",
    "    for i in range(1, len(pts_)):\n",
    "        fi = fs[i]\n",
    "        prod = 1\n",
    "        for j in range(0, i):\n",
    "            prod *= (x - pts_[j])\n",
    "        sum_ += fi * prod\n",
    "    return val_[0] + sum_"
   ],
   "metadata": {
    "collapsed": false,
    "pycharm": {
     "name": "#%%\n"
    }
   }
  },
  {
   "cell_type": "code",
   "execution_count": 40,
   "outputs": [],
   "source": [],
   "metadata": {
    "collapsed": false,
    "pycharm": {
     "name": "#%%\n"
    }
   }
  },
  {
   "cell_type": "code",
   "source": [
    "pts = np.array([0, 0, np.pi / 2, np.pi / 2, np.pi, np.pi])\n",
    "val = sin(pts)\n",
    "\n",
    "x = np.linspace(0, np.pi, 100)\n",
    "y = hermite(pts, val, x)\n",
    "\n",
    "plt.plot(x, y, label=\"hermite\")\n",
    "\n",
    "y = np.sin(x)\n",
    "plt.plot(x, y, label=\"gt\")\n",
    "\n",
    "plt.title(\"sin(x)\")\n",
    "plt.legend()\n",
    "plt.show()"
   ],
   "metadata": {
    "collapsed": false,
    "pycharm": {
     "name": "#%%\n"
    }
   },
   "execution_count": 41,
   "outputs": [
    {
     "data": {
      "text/plain": "<Figure size 432x288 with 1 Axes>",
      "image/png": "[encoded data removed]"
     },
     "metadata": {
      "needs_background": "light"
     },
     "output_type": "display_data"
    }
   ]
  },
  {
   "cell_type": "markdown",
   "source": [
    "implementation of the atkin neville scheme"
   ],
   "metadata": {
    "collapsed": false
   }
  },
  {
   "cell_type": "code",
   "execution_count": 42,
   "outputs": [],
   "source": [
    "def aitken_neville(x,vals,x_bar):\n",
    "    n = len(x)-1\n",
    "    for m in range(1,n):\n",
    "        for j in range(0,n-m):\n",
    "            vals[j] = ((x_bar-x[j])*vals[j+1] - (x_bar-x[j+m])*vals[j])/(x[j+m]-x[j])\n",
    "    return vals[0]"
   ],
   "metadata": {
    "collapsed": false,
    "pycharm": {
     "name": "#%%\n"
    }
   }
  },
  {
   "cell_type": "markdown",
   "source": [
    "$D$ approximates the derivative of a function."
   ],
   "metadata": {
    "collapsed": false
   }
  },
  {
   "cell_type": "code",
   "execution_count": 43,
   "outputs": [],
   "source": [
    "def D(x_, h):\n",
    "    # print(np.around(pts, 2))\n",
    "    # print(np.around(np.sin(pts), 2))\n",
    "    return (hermite(pts, np.sin(pts), x_ + h) - hermite(pts, np.sin(pts), x_)) / h"
   ],
   "metadata": {
    "collapsed": false,
    "pycharm": {
     "name": "#%%\n"
    }
   }
  },
  {
   "cell_type": "markdown",
   "source": [
    "Compute the error between the approximated derivative and the real derivative. Since we can not compute\n",
    "the derivative $D$ of $f$ (division by $h = 0$), we use small values of $h$ and approximate the derivative using the atkin neville scheme.\n",
    "Then we can extrapolate the derivative by looking at $h = 0$."
   ],
   "metadata": {
    "collapsed": false
   }
  },
  {
   "cell_type": "code",
   "execution_count": 44,
   "outputs": [],
   "source": [
    "def derivative(q_, x_):\n",
    "    h = [q_**i for i in range(0,20)]\n",
    "    ds = [D(x_,i) for i in h] # compute interpolation y values\n",
    "    res = aitken_neville(h, ds, 0) # extrapolate at position 0\n",
    "    print(\"hermite: \", round(x_, 2), \"->\",  round(res, 2))\n",
    "    print(\"gt:      \", round(x_, 2), \"->\",  round(np.cos(x), 2))"
   ],
   "metadata": {
    "collapsed": false,
    "pycharm": {
     "name": "#%%\n"
    }
   }
  },
  {
   "cell_type": "markdown",
   "source": [
    "Now we need to test whether $f'(x_{i}) = p'(x_{i})$"
   ],
   "metadata": {
    "collapsed": false,
    "pycharm": {
     "name": "#%% md\n"
    }
   }
  },
  {
   "cell_type": "code",
   "execution_count": 45,
   "outputs": [
    {
     "name": "stdout",
     "output_type": "stream",
     "text": [
      "hermite:  0 -> 1.0\n",
      "gt:       0 -> 1.0\n",
      "hermite:  1.57 -> 0.0\n",
      "gt:       1.57 -> 0.0\n",
      "hermite:  3.14 -> -1.0\n",
      "gt:       3.14 -> -1.0\n"
     ]
    }
   ],
   "source": [
    "x = 0\n",
    "q = 0.5\n",
    "derivative(q, x)\n",
    "\n",
    "x = np.pi / 2\n",
    "derivative(q, x)\n",
    "\n",
    "x = np.pi\n",
    "derivative(q, x)"
   ],
   "metadata": {
    "collapsed": false,
    "pycharm": {
     "name": "#%%\n"
    }
   }
  },
  {
   "cell_type": "markdown",
   "source": [
    "and $f(x_{i}) = p(x_{i})$"
   ],
   "metadata": {
    "collapsed": false,
    "pycharm": {
     "name": "#%% md\n",
     "is_executing": true
    }
   },
   "outputs": [
    {
     "ename": "SyntaxError",
     "evalue": "invalid syntax (<ipython-input-141-848330ebb777>, line 1)",
     "output_type": "error",
     "traceback": [
      "\u001B[0;36m  File \u001B[0;32m\"<ipython-input-141-848330ebb777>\"\u001B[0;36m, line \u001B[0;32m1\u001B[0m\n\u001B[0;31m    and $f(x_{i}) = p(x_{i})$\u001B[0m\n\u001B[0m    ^\u001B[0m\n\u001B[0;31mSyntaxError\u001B[0m\u001B[0;31m:\u001B[0m invalid syntax\n"
     ]
    }
   ]
  },
  {
   "cell_type": "code",
   "execution_count": 46,
   "outputs": [
    {
     "name": "stdout",
     "output_type": "stream",
     "text": [
      "hermite:  0 -> 0.0\n",
      "gt     :  0 -> 0.0\n",
      "hermite:  1.57 -> 1.0\n",
      "gt     :  1.57 -> 1.0\n",
      "hermite:  3.14 -> 0.0\n",
      "gt     :  3.14 -> 0.0\n"
     ]
    }
   ],
   "source": [
    "x = 0\n",
    "y = hermite(pts,np.sin(pts), x)\n",
    "print(\"hermite: \", round(x, 2), \"->\", round(y, 2))\n",
    "\n",
    "y = np.sin(x)\n",
    "print(\"gt     : \", round(x, 2), \"->\", round(y, 2))\n",
    "\n",
    "\n",
    "x = np.pi / 2\n",
    "y = hermite(pts,np.sin(pts), x)\n",
    "print(\"hermite: \", round(x, 2), \"->\", round(y, 2))\n",
    "\n",
    "y = np.sin(x)\n",
    "print(\"gt     : \", round(x, 2), \"->\", round(y, 2))\n",
    "\n",
    "\n",
    "x = np.pi\n",
    "y = hermite(pts,np.sin(pts), x)\n",
    "print(\"hermite: \", round(x, 2), \"->\", round(y, 2))\n",
    "\n",
    "y = np.sin(x)\n",
    "print(\"gt     : \", round(x, 2), \"->\", round(y, 2))"
   ],
   "metadata": {
    "collapsed": false,
    "pycharm": {
     "name": "#%%\n"
    }
   }
  },
  {
   "cell_type": "markdown",
   "source": [
    "## Task 2"
   ],
   "metadata": {
    "collapsed": false,
    "pycharm": {
     "name": "#%% md\n"
    }
   }
  },
  {
   "cell_type": "code",
   "execution_count": 47,
   "outputs": [],
   "source": [
    "from scipy import interpolate\n",
    "import numpy as np\n",
    "import matplotlib.pyplot as plt"
   ],
   "metadata": {
    "collapsed": false,
    "pycharm": {
     "name": "#%%\n"
    }
   }
  },
  {
   "cell_type": "code",
   "execution_count": 48,
   "outputs": [
    {
     "name": "stdout",
     "output_type": "stream",
     "text": [
      "mean squared error:  2.170918779946823e-13\n"
     ]
    },
    {
     "data": {
      "text/plain": "<Figure size 432x288 with 1 Axes>",
      "image/png": "[encoded data removed]"
     },
     "metadata": {
      "needs_background": "light"
     },
     "output_type": "display_data"
    }
   ],
   "source": [
    "def f1(x): return np.sqrt(x)\n",
    "def f2(x): return np.arctan(10 * x)\n",
    "def cebyshev(x): return 5 * np.cos((x+0.5)*np.pi/len(x))\n",
    "def mean_sq_error(d1, d2): return round(np.mean((d1 - d2)**2), 3)\n",
    "x = np.linspace(0, 1, 15)\n",
    "y = f1(x)\n",
    "\n",
    "# compute lagrange interpolation\n",
    "poly = interpolate.lagrange(x, y)\n",
    "lagrange = poly(x)\n",
    "plt.plot(x, poly(x), label=\"lagrange\")\n",
    "\n",
    "# compute spline interpolation\n",
    "tck = interpolate.splrep(x, y)\n",
    "splines = interpolate.splev(x, tck)\n",
    "plt.plot(x, splines, label=\"splines\")\n",
    "\n",
    "# plot knots\n",
    "plt.plot(x, y, \"x\", label=\"knots\")\n",
    "\n",
    "print(\"mean squared error: \", mean_sq_error(lagrange, splines))\n",
    "\n",
    "plt.legend()\n",
    "plt.show()\n"
   ],
   "metadata": {
    "collapsed": false,
    "pycharm": {
     "name": "#%%\n"
    }
   }
  }
 ],
 "metadata": {
  "kernelspec": {
   "display_name": "Python 3",
   "language": "python",
   "name": "python3"
  },
  "language_info": {
   "codemirror_mode": {
    "name": "ipython",
    "version": 2
   },
   "file_extension": ".py",
   "mimetype": "text/x-python",
   "name": "python",
   "nbconvert_exporter": "python",
   "pygments_lexer": "ipython2",
   "version": "2.7.6"
  }
 },
 "nbformat": 4,
 "nbformat_minor": 0
}