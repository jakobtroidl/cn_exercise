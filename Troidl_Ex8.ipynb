{
 "cells": [
  {
   "cell_type": "code",
   "execution_count": 92,
   "metadata": {
    "collapsed": true
   },
   "outputs": [],
   "source": [
    "import numpy as np\n",
    "import matplotlib.pyplot as plt\n",
    "import numpy.linalg as la"
   ]
  },
  {
   "cell_type": "markdown",
   "source": [
    "### Task 29"
   ],
   "metadata": {
    "collapsed": false,
    "pycharm": {
     "name": "#%% md\n"
    }
   }
  },
  {
   "cell_type": "markdown",
   "source": [
    "define quadratic function"
   ],
   "metadata": {
    "collapsed": false,
    "pycharm": {
     "name": "#%% md\n"
    }
   }
  },
  {
   "cell_type": "markdown",
   "source": [
    "Define parameters for curve"
   ],
   "metadata": {
    "collapsed": false,
    "pycharm": {
     "name": "#%% md\n"
    }
   }
  },
  {
   "cell_type": "code",
   "execution_count": 93,
   "outputs": [],
   "source": [
    "A1 = np.array([[1, 0], [0, 1]])\n",
    "B1 = np.array([0, 0])\n",
    "C1 = -1\n",
    "\n",
    "A2 = np.array([[0, 0], [0, 1]])\n",
    "B2 = np.array([1, 0])\n",
    "C2 = 0"
   ],
   "metadata": {
    "collapsed": false,
    "pycharm": {
     "name": "#%%\n"
    }
   }
  },
  {
   "cell_type": "markdown",
   "source": [
    "Evaluate quadratic function"
   ],
   "metadata": {
    "collapsed": false,
    "pycharm": {
     "name": "#%% md\n"
    }
   }
  },
  {
   "cell_type": "code",
   "execution_count": 94,
   "outputs": [],
   "source": [
    "def f(P, A, B, C):\n",
    "    return P.T @ A @ P + B.T @ P + C"
   ],
   "metadata": {
    "collapsed": false,
    "pycharm": {
     "name": "#%%\n"
    }
   }
  },
  {
   "cell_type": "markdown",
   "source": [
    "compute result space"
   ],
   "metadata": {
    "collapsed": false,
    "pycharm": {
     "name": "#%% md\n"
    }
   }
  },
  {
   "cell_type": "code",
   "execution_count": 95,
   "outputs": [],
   "source": [
    "def eval(A, B, C, x, y, n):\n",
    "    S = np.zeros([n, n])\n",
    "    for i in range(0, n):\n",
    "        for j in range(0, n):\n",
    "            p = np.array([x[i], y[j]])\n",
    "            S[i][j] = f(p, A, B, C)\n",
    "    return S"
   ],
   "metadata": {
    "collapsed": false,
    "pycharm": {
     "name": "#%%\n"
    }
   }
  },
  {
   "cell_type": "markdown",
   "source": [
    "evaluate gradient"
   ],
   "metadata": {
    "collapsed": false,
    "pycharm": {
     "name": "#%% md\n"
    }
   }
  },
  {
   "cell_type": "code",
   "execution_count": 96,
   "outputs": [],
   "source": [
    "def grad(xy, A, B):\n",
    "    x, y = xy\n",
    "    dx = 2 * A[0][0] * x + 2 * A[0, 1] * y + B[0]  # x derivative\n",
    "    dy = 2 * A[1][1] * y + 2 * A[0, 1] * x + B[1]  # y derivative\n",
    "    return [dx, dy]"
   ],
   "metadata": {
    "collapsed": false,
    "pycharm": {
     "name": "#%%\n"
    }
   }
  },
  {
   "cell_type": "markdown",
   "source": [
    "compute curve intersection points"
   ],
   "metadata": {
    "collapsed": false,
    "pycharm": {
     "name": "#%% md\n"
    }
   }
  },
  {
   "cell_type": "code",
   "execution_count": 97,
   "outputs": [],
   "source": [
    "def eval_intersection(start, max_iter = 6, eps = 1e-9):\n",
    "    current = start\n",
    "\n",
    "    for i in range(0, max_iter):\n",
    "        v1 = f(current, A1, B1, C1)\n",
    "        v2 = f(current, A2, B2, C2)\n",
    "        v = [v1, v2]\n",
    "\n",
    "        g1 = grad(current, A1, B1)\n",
    "        g2 = grad(current, A2, B2)\n",
    "\n",
    "        jacobi = np.vstack((g1, g2))\n",
    "\n",
    "        update = current - la.inv(jacobi) @ v\n",
    "\n",
    "        if la.norm(update - current) < eps:\n",
    "            break\n",
    "        current = update\n",
    "    return update"
   ],
   "metadata": {
    "collapsed": false,
    "pycharm": {
     "name": "#%%\n"
    }
   }
  },
  {
   "cell_type": "code",
   "execution_count": 98,
   "outputs": [
    {
     "data": {
      "text/plain": "<Figure size 432x288 with 1 Axes>",
      "image/png": "[encoded data removed]"
     },
     "metadata": {
      "needs_background": "light"
     },
     "output_type": "display_data"
    }
   ],
   "source": [
    "n = 100\n",
    "x = [x for x in np.linspace(-1, 1, n)]\n",
    "y = x.copy()\n",
    "\n",
    "S1 = eval(A1, B1, C1, x, y, n)\n",
    "S2 = eval(A2, B2, C2, x, y, n)\n",
    "\n",
    "mesh1, mesh2 = np.meshgrid(x,y)\n",
    "\n",
    "plt.contour(mesh1,mesh2,S1, 0)\n",
    "plt.contour(mesh1,mesh2,S2, 0)\n",
    "\n",
    "res1 = eval_intersection(np.array([-0.6,-0.75]))\n",
    "plt.plot(res1[1], res1[0],  \"o\")\n",
    "\n",
    "res2 = eval_intersection(np.array([-0.6, 0.75]))\n",
    "plt.plot(res2[1], res2[0],  \"o\")\n",
    "\n",
    "plt.show()"
   ],
   "metadata": {
    "collapsed": false,
    "pycharm": {
     "name": "#%%\n"
    }
   }
  }
 ],
 "metadata": {
  "kernelspec": {
   "display_name": "Python 3",
   "language": "python",
   "name": "python3"
  },
  "language_info": {
   "codemirror_mode": {
    "name": "ipython",
    "version": 2
   },
   "file_extension": ".py",
   "mimetype": "text/x-python",
   "name": "python",
   "nbconvert_exporter": "python",
   "pygments_lexer": "ipython2",
   "version": "2.7.6"
  }
 },
 "nbformat": 4,
 "nbformat_minor": 0
}