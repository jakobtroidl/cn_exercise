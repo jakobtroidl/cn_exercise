{
 "cells": [
  {
   "cell_type": "code",
   "execution_count": 1,
   "metadata": {
    "collapsed": true
   },
   "outputs": [],
   "source": [
    "import numpy as np\n",
    "import matplotlib.pyplot as plt\n",
    "import numpy.linalg as la"
   ]
  },
  {
   "cell_type": "markdown",
   "source": [
    "### Task 29"
   ],
   "metadata": {
    "collapsed": false,
    "pycharm": {
     "name": "#%% md\n"
    }
   }
  },
  {
   "cell_type": "markdown",
   "source": [
    "define quadratic function"
   ],
   "metadata": {
    "collapsed": false,
    "pycharm": {
     "name": "#%% md\n"
    }
   }
  },
  {
   "cell_type": "markdown",
   "source": [
    "Define parameters for curve"
   ],
   "metadata": {
    "collapsed": false,
    "pycharm": {
     "name": "#%% md\n"
    }
   }
  },
  {
   "cell_type": "code",
   "execution_count": 2,
   "outputs": [],
   "source": [
    "A1 = np.array([[1, 0], [0, 1]])\n",
    "B1 = np.array([0, 0])\n",
    "C1 = -1\n",
    "\n",
    "A2 = np.array([[0, 0], [0, 1]])\n",
    "B2 = np.array([1, 0])\n",
    "C2 = 0"
   ],
   "metadata": {
    "collapsed": false,
    "pycharm": {
     "name": "#%%\n"
    }
   }
  },
  {
   "cell_type": "markdown",
   "source": [
    "Evaluate quadratic function"
   ],
   "metadata": {
    "collapsed": false,
    "pycharm": {
     "name": "#%% md\n"
    }
   }
  },
  {
   "cell_type": "code",
   "execution_count": 3,
   "outputs": [],
   "source": [
    "def f(P, A, B, C):\n",
    "    return P.T @ A @ P + B.T @ P + C"
   ],
   "metadata": {
    "collapsed": false,
    "pycharm": {
     "name": "#%%\n"
    }
   }
  },
  {
   "cell_type": "markdown",
   "source": [
    "compute result space"
   ],
   "metadata": {
    "collapsed": false,
    "pycharm": {
     "name": "#%% md\n"
    }
   }
  },
  {
   "cell_type": "code",
   "execution_count": 4,
   "outputs": [],
   "source": [
    "def eval(A, B, C, x, y, n):\n",
    "    S = np.zeros([n, n])\n",
    "    for i in range(0, n):\n",
    "        for j in range(0, n):\n",
    "            p = np.array([x[i], y[j]])\n",
    "            S[i][j] = f(p, A, B, C)\n",
    "    return S"
   ],
   "metadata": {
    "collapsed": false,
    "pycharm": {
     "name": "#%%\n"
    }
   }
  },
  {
   "cell_type": "markdown",
   "source": [
    "evaluate gradient"
   ],
   "metadata": {
    "collapsed": false,
    "pycharm": {
     "name": "#%% md\n"
    }
   }
  },
  {
   "cell_type": "code",
   "execution_count": 5,
   "outputs": [],
   "source": [
    "def grad(xy, A, B):\n",
    "    x, y = xy\n",
    "    dx = 2 * A[0][0] * x + 2 * A[0, 1] * y + B[0]  # x derivative\n",
    "    dy = 2 * A[1][1] * y + 2 * A[0, 1] * x + B[1]  # y derivative\n",
    "    return [dx, dy]"
   ],
   "metadata": {
    "collapsed": false,
    "pycharm": {
     "name": "#%%\n"
    }
   }
  },
  {
   "cell_type": "markdown",
   "source": [
    "compute curve intersection points"
   ],
   "metadata": {
    "collapsed": false,
    "pycharm": {
     "name": "#%% md\n"
    }
   }
  },
  {
   "cell_type": "code",
   "execution_count": 6,
   "outputs": [],
   "source": [
    "def eval_intersection(start, max_iter = 6, eps = 1e-9):\n",
    "    current = start\n",
    "\n",
    "    for i in range(0, max_iter):\n",
    "        v1 = f(current, A1, B1, C1)\n",
    "        v2 = f(current, A2, B2, C2)\n",
    "        v = [v1, v2]\n",
    "\n",
    "        g1 = grad(current, A1, B1)\n",
    "        g2 = grad(current, A2, B2)\n",
    "\n",
    "        jacobi = np.vstack((g1, g2))\n",
    "\n",
    "        update = current - la.inv(jacobi) @ v\n",
    "\n",
    "        if la.norm(update - current) < eps:\n",
    "            break\n",
    "        current = update\n",
    "    return update"
   ],
   "metadata": {
    "collapsed": false,
    "pycharm": {
     "name": "#%%\n"
    }
   }
  },
  {
   "cell_type": "code",
   "execution_count": 7,
   "outputs": [
    {
     "data": {
      "text/plain": "<Figure size 432x288 with 1 Axes>",
      "image/png": "[encoded data removed]"
     },
     "metadata": {
      "needs_background": "light"
     },
     "output_type": "display_data"
    }
   ],
   "source": [
    "n = 100\n",
    "x = [x for x in np.linspace(-1, 1, n)]\n",
    "y = x.copy()\n",
    "\n",
    "S1 = eval(A1, B1, C1, x, y, n)\n",
    "S2 = eval(A2, B2, C2, x, y, n)\n",
    "\n",
    "mesh1, mesh2 = np.meshgrid(x,y)\n",
    "\n",
    "plt.contour(mesh1,mesh2,S1, 0)\n",
    "plt.contour(mesh1,mesh2,S2, 0)\n",
    "\n",
    "res1 = eval_intersection(np.array([-0.6,-0.75]))\n",
    "plt.plot(res1[1], res1[0],  \"o\")\n",
    "\n",
    "res2 = eval_intersection(np.array([-0.6, 0.75]))\n",
    "plt.plot(res2[1], res2[0],  \"o\")\n",
    "\n",
    "plt.show()"
   ],
   "metadata": {
    "collapsed": false,
    "pycharm": {
     "name": "#%%\n"
    }
   }
  },
  {
   "cell_type": "markdown",
   "source": [
    "At most there are 4 intersection points (4 parabulas intersect)"
   ],
   "metadata": {
    "collapsed": false,
    "pycharm": {
     "name": "#%% md\n"
    }
   }
  },
  {
   "cell_type": "markdown",
   "source": [
    "### Task 30"
   ],
   "metadata": {
    "collapsed": false,
    "pycharm": {
     "name": "#%% md\n"
    }
   }
  },
  {
   "cell_type": "code",
   "execution_count": 8,
   "outputs": [
    {
     "name": "stdout",
     "output_type": "stream",
     "text": [
      "[-0.7861513777574233, 0.7861513777574233] [-0.6180339887498949, -0.6180339887498949]\n"
     ]
    },
    {
     "data": {
      "text/plain": "<Figure size 432x288 with 1 Axes>",
      "image/png": "[encoded data removed]"
     },
     "metadata": {
      "needs_background": "light"
     },
     "output_type": "display_data"
    }
   ],
   "source": [
    "def criterion(f, A, B, C, bx, by):\n",
    "    mp = np.asarray([(bx[0]+bx[1])*0.5, (by[0]+by[1])*0.5])\n",
    "    mv = f(mp, A, B, C)\n",
    "\n",
    "    step = 10\n",
    "    incX = (bx[1] - bx[0])/step\n",
    "    incY = (by[1] - by[0])/step\n",
    "    if mv == 0:\n",
    "        return True\n",
    "    else:\n",
    "        startx = bx[0]\n",
    "        starty = by[0]\n",
    "        for i in range(0,step):\n",
    "            # walk around boundary of rectangle and check for sign differences\n",
    "            currentX1 = f(np.asarray((startx+(i*incX),by[0])), A, B, C)\n",
    "            currentX2 = f(np.asarray((startx+(i*incY),by[1])), A, B, C)\n",
    "            currentY1 = f(np.asarray((bx[1],starty)),A, B, C)\n",
    "            currentY2 = f(np.asarray((bx[1],starty)),A, B, C)\n",
    "            if currentX1 == 0 or currentX2 == 0 or currentY1 == 0 or currentY2 == 0:\n",
    "                return True\n",
    "            elif np.sign(mv) != np.sign(currentX1) or np.sign(mv) != np.sign(currentX2)or np.sign(mv) != np.sign(currentY1) or np.sign(mv) != np.sign(currentY2):\n",
    "                return True\n",
    "    return False\n",
    "\n",
    "rect = [(-1,1,-1,1)]\n",
    "thr = 0.1\n",
    "\n",
    "start = []\n",
    "\n",
    "for i in range(100):\n",
    "    if len(rect) > i:\n",
    "        if criterion(f,A1,B1,C1,np.asarray(rect[i][0:2]),np.asarray(rect[i][2:4])) and criterion(f,A2,B2,C2,np.asarray(rect[i][0:2]),np.asarray(rect[i][2:4])):\n",
    "            if np.abs(rect[i][1]-rect[i][0]) > thr: # check if rect is still big enough\n",
    "                # subdivide rect equally in four smaller rects\n",
    "                rect.append((rect[i][0],(rect[i][0] + rect[i][1])*0.5,rect[i][2],(rect[i][2] + rect[i][3])*0.5))\n",
    "                rect.append(((rect[i][0] + rect[i][1]) * 0.5,rect[i][1],rect[i][2],(rect[i][2] + rect[i][3])*0.5))\n",
    "                rect.append((rect[i][0],(rect[i][0] + rect[i][1])*0.5,(rect[i][2] + rect[i][3])*0.5,rect[i][3]))\n",
    "                rect.append(((rect[i][0] + rect[i][1])*0.5,rect[i][1],(rect[i][2] + rect[i][3])*0.5,rect[i][3]))\n",
    "            else:\n",
    "                start.append([(rect[i][0] + rect[i][1])*0.5, (rect[i][2] + rect[i][3])*0.5])\n",
    "    else:\n",
    "        break\n",
    "\n",
    "interX = []\n",
    "interY = []\n",
    "for j in range(len(start)):\n",
    "    inter = eval_intersection(np.asarray(start[j]))\n",
    "    # avoid double roots\n",
    "    if interX.count(inter[1]) == 0 or interY.count(inter[0]) == 0:\n",
    "        interX.append(inter[1])\n",
    "        interY.append(inter[0])\n",
    "\n",
    "plt.contour(mesh1,mesh2,S1, 0)\n",
    "plt.contour(mesh1,mesh2,S2, 0)\n",
    "\n",
    "print(interX, interY)\n",
    "plt.plot(interX, interY, 'ro')\n",
    "plt.show()\n"
   ],
   "metadata": {
    "collapsed": false,
    "pycharm": {
     "name": "#%%\n"
    }
   }
  }
 ],
 "metadata": {
  "kernelspec": {
   "display_name": "Python 3",
   "language": "python",
   "name": "python3"
  },
  "language_info": {
   "codemirror_mode": {
    "name": "ipython",
    "version": 2
   },
   "file_extension": ".py",
   "mimetype": "text/x-python",
   "name": "python",
   "nbconvert_exporter": "python",
   "pygments_lexer": "ipython2",
   "version": "2.7.6"
  }
 },
 "nbformat": 4,
 "nbformat_minor": 0
}