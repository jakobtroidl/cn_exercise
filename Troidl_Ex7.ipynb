{
 "cells": [
  {
   "cell_type": "code",
   "execution_count": 60,
   "metadata": {
    "collapsed": true,
    "pycharm": {
     "name": "#%%\n"
    }
   },
   "outputs": [],
   "source": [
    "import numpy as np\n",
    "from scipy import linalg as la"
   ]
  },
  {
   "cell_type": "markdown",
   "source": [
    "### Task 25\n",
    "SVD and QR factorization\n",
    "\n",
    "$A = QR$ such that $Qy = b$ and $Rx = y$\n",
    "\n",
    "$Q$ is orthonormal and $R$  is upper triangular"
   ],
   "metadata": {
    "collapsed": false,
    "pycharm": {
     "name": "#%% md\n"
    }
   }
  },
  {
   "cell_type": "code",
   "execution_count": 61,
   "outputs": [],
   "source": [
    "def is_ortogonal(M):\n",
    "    I1 = np.transpose(M) @ M\n",
    "    I1 = I1.round(0)\n",
    "    I2 = np.eye(len(I1), len(I1[0]))\n",
    "\n",
    "    if np.array_equal(I1, I2):\n",
    "        return True\n",
    "    else:\n",
    "        return False"
   ],
   "metadata": {
    "collapsed": false,
    "pycharm": {
     "name": "#%%\n"
    }
   }
  },
  {
   "cell_type": "code",
   "execution_count": 62,
   "outputs": [],
   "source": [
    "m = 8\n",
    "n = 4"
   ],
   "metadata": {
    "collapsed": false,
    "pycharm": {
     "name": "#%%\n"
    }
   }
  },
  {
   "cell_type": "markdown",
   "source": [
    "QR decomposition"
   ],
   "metadata": {
    "collapsed": false,
    "pycharm": {
     "name": "#%% md\n"
    }
   }
  },
  {
   "cell_type": "code",
   "execution_count": 63,
   "outputs": [
    {
     "name": "stdout",
     "output_type": "stream",
     "text": [
      "Q_np is othogonal:  True\n",
      "Q_sp is othogonal:  True\n"
     ]
    }
   ],
   "source": [
    "A = np.random.rand(m,n)\n",
    "Q_np, R_np = np.linalg.qr(A, 'reduced')\n",
    "Q_sp, R_sp = la.qr(A, mode='economic')\n",
    "\n",
    "print(\"Q_np is othogonal: \", is_ortogonal(Q_np))\n",
    "print(\"Q_sp is othogonal: \", is_ortogonal(Q_sp))"
   ],
   "metadata": {
    "collapsed": false,
    "pycharm": {
     "name": "#%%\n"
    }
   }
  },
  {
   "cell_type": "markdown",
   "source": [
    "Reduced mode (numpy) returns Q and R with dimensions $(M, K)$ $(K, N)$ whereas $K = min(N, M)$\n",
    "and economic mode (scipy) is ..."
   ],
   "metadata": {
    "collapsed": false,
    "pycharm": {
     "name": "#%% md\n"
    }
   }
  },
  {
   "cell_type": "markdown",
   "source": [
    "SVD (Single Value Decomposition)"
   ],
   "metadata": {
    "collapsed": false,
    "pycharm": {
     "name": "#%% md\n"
    }
   }
  },
  {
   "cell_type": "code",
   "execution_count": 64,
   "outputs": [],
   "source": [
    "U_np, S_np, VH_np = np.linalg.svd(A)\n",
    "U_sp, S_sp, VH_sp = la.svd(A)"
   ],
   "metadata": {
    "collapsed": false,
    "pycharm": {
     "name": "#%%\n"
    }
   }
  }
 ],
 "metadata": {
  "kernelspec": {
   "display_name": "Python 3",
   "language": "python",
   "name": "python3"
  },
  "language_info": {
   "codemirror_mode": {
    "name": "ipython",
    "version": 2
   },
   "file_extension": ".py",
   "mimetype": "text/x-python",
   "name": "python",
   "nbconvert_exporter": "python",
   "pygments_lexer": "ipython2",
   "version": "2.7.6"
  }
 },
 "nbformat": 4,
 "nbformat_minor": 0
}