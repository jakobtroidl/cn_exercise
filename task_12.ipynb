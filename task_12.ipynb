{
 "cells": [
  {
   "cell_type": "code",
   "execution_count": 40,
   "outputs": [],
   "source": [
    "from scipy.fft import fft, ifft\n",
    "import numpy as np\n",
    "import time"
   ],
   "metadata": {
    "collapsed": false,
    "pycharm": {
     "name": "#%%\n"
    }
   }
  },
  {
   "cell_type": "markdown",
   "metadata": {
    "collapsed": true,
    "pycharm": {
     "name": "#%% md\n"
    }
   },
   "source": [
    "Task 12"
   ]
  },
  {
   "cell_type": "code",
   "execution_count": 41,
   "outputs": [],
   "source": [
    "def f1(x):\n",
    "    return np.sin(40 * np.pi * x)"
   ],
   "metadata": {
    "collapsed": false,
    "pycharm": {
     "name": "#%%\n"
    }
   }
  },
  {
   "cell_type": "code",
   "execution_count": 42,
   "outputs": [
    {
     "name": "stdout",
     "output_type": "stream",
     "text": [
      "Elapsed time:  1.916351079940796\n",
      "[ 5.24658339e-19-0.00000000e+00j -2.59186258e-19-1.52311471e-18j\n",
      "  1.43260252e-19-3.74731077e-18j ...  6.52862926e-19+5.77190247e-18j\n",
      "  1.43260252e-19+3.74731077e-18j -2.59186258e-19+1.52311471e-18j]\n"
     ]
    }
   ],
   "source": [
    "p = 24\n",
    "n = 2**p\n",
    "\n",
    "# 2^24 = 16777216, thats how far you can go with n to stay under 1 sec\n",
    "\n",
    "x = [i for i in range(0, n)]\n",
    "x = np.asarray(x)\n",
    "x = x / n\n",
    "\n",
    "y = f1(x)\n",
    "\n",
    "t = time.time()\n",
    "\n",
    "a = ifft(y)\n",
    "\n",
    "elapsed = time.time() - t\n",
    "print(\"Elapsed time: \", elapsed)\n",
    "\n",
    "print(a)\n",
    "\n",
    "\n"
   ],
   "metadata": {
    "collapsed": false,
    "pycharm": {
     "name": "#%%\n"
    }
   }
  }
 ],
 "metadata": {
  "kernelspec": {
   "display_name": "Python 3",
   "language": "python",
   "name": "python3"
  },
  "language_info": {
   "codemirror_mode": {
    "name": "ipython",
    "version": 2
   },
   "file_extension": ".py",
   "mimetype": "text/x-python",
   "name": "python",
   "nbconvert_exporter": "python",
   "pygments_lexer": "ipython2",
   "version": "2.7.6"
  }
 },
 "nbformat": 4,
 "nbformat_minor": 0
}