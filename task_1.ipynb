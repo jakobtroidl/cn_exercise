{
 "cells": [
  {
   "cell_type": "code",
   "execution_count": 6,
   "metadata": {
    "collapsed": true
   },
   "outputs": [],
   "source": [
    "import numpy as np\n",
    "import matplotlib.pyplot as plt\n",
    "\n"
   ]
  },
  {
   "cell_type": "markdown",
   "source": [
    "Define a function to compute taylor series of $$f(x) = \\frac{1}{x-1}$$\n",
    "only valid for expansion $$ p = 0$$. See notes for further explanations."
   ],
   "metadata": {
    "collapsed": false
   }
  },
  {
   "cell_type": "code",
   "execution_count": 7,
   "outputs": [],
   "source": [
    "def taylor_series_1(x, n):\n",
    "    y = 0\n",
    "    for i in range(0, n):\n",
    "       y += -(x **i)\n",
    "    return y"
   ],
   "metadata": {
    "collapsed": false,
    "pycharm": {
     "name": "#%%\n"
    }
   }
  },
  {
   "cell_type": "markdown",
   "source": [
    "Plot taylor polynomials and ground truth "
   ],
   "metadata": {
    "collapsed": false,
    "pycharm": {
     "name": "#%% md\n",
     "is_executing": true
    }
   },
   "outputs": [
    {
     "ename": "SyntaxError",
     "evalue": "invalid syntax (<ipython-input-8-54e4add90236>, line 1)",
     "output_type": "error",
     "traceback": [
      "\u001B[0;36m  File \u001B[0;32m\"<ipython-input-8-54e4add90236>\"\u001B[0;36m, line \u001B[0;32m1\u001B[0m\n\u001B[0;31m    Plot taylor polynomials and ground truth\u001B[0m\n\u001B[0m         ^\u001B[0m\n\u001B[0;31mSyntaxError\u001B[0m\u001B[0;31m:\u001B[0m invalid syntax\n"
     ]
    }
   ]
  },
  {
   "cell_type": "code",
   "execution_count": null,
   "outputs": [],
   "source": [
    "x = np.linspace(-2, 2, num=200)\n",
    "\n",
    "n = 10\n",
    "y = taylor_series_1(x, n)\n",
    "plt.plot(x, y, label= \"n: \" + str(n))\n",
    "\n",
    "n = 20\n",
    "y = taylor_series_1(x, n)\n",
    "plt.plot(x, y, label=\"n: \" + str(n))\n",
    "\n",
    "n = 40\n",
    "y = taylor_series_1(x, n)\n",
    "plt.plot(x, y, label=\"n: \" + str(n))\n",
    "\n",
    "x = np.linspace(-2, 2, num=200)\n",
    "plt.plot(x, 1 / (x - 1), label=\"ground truth\")\n",
    "\n",
    "plt.legend()\n",
    "plt.title(\"Taylor for  1/(x-1) \")\n",
    "plt.yscale('symlog')\n",
    "plt.show()"
   ],
   "metadata": {
    "collapsed": false,
    "pycharm": {
     "name": "#%%\n"
    }
   }
  },
  {
   "cell_type": "code",
   "execution_count": null,
   "outputs": [],
   "source": [
    "# only valid for expansion point 0\n",
    "\n",
    "def taylor_series_2(x, n):\n",
    "    y = 0\n",
    "    for i in range(0, n):\n",
    "       y += (1 - n % 2) * (-1)**(n/2) * x**i\n",
    "    return y"
   ],
   "metadata": {
    "collapsed": false,
    "pycharm": {
     "name": "#%% Define function to compute taylor series of f(x) = 1 (x^2 + 1)\n"
    }
   }
  },
  {
   "cell_type": "code",
   "execution_count": null,
   "outputs": [],
   "source": [
    "x = np.linspace(-2, 2, num=200)\n",
    "\n",
    "n = 10\n",
    "y = taylor_series_2(x, n)\n",
    "plt.plot(x, y, label= \"n: \" + str(n))\n",
    "\n",
    "n = 20\n",
    "y = taylor_series_2(x, n)\n",
    "plt.plot(x, y, label= \"n: \" + str(n))\n",
    "\n",
    "n = 40\n",
    "y = taylor_series_2(x, n)\n",
    "plt.plot(x, y, label= \"n: \" + str(n))\n",
    "\n",
    "plt.plot(x, 1 / (x**2 + 1), label=\"ground truth\")\n",
    "\n",
    "plt.legend()\n",
    "plt.title(\"Taylor for  1/(x^2 + 1) \")\n",
    "plt.yscale('symlog')\n",
    "\n",
    "plt.show()\n",
    "\n",
    "\n"
   ],
   "metadata": {
    "collapsed": false,
    "pycharm": {
     "name": "#%% Apply for 1/(x^2 - 1)\n"
    }
   }
  }
 ],
 "metadata": {
  "kernelspec": {
   "display_name": "Python 3",
   "language": "python",
   "name": "python3"
  },
  "language_info": {
   "codemirror_mode": {
    "name": "ipython",
    "version": 2
   },
   "file_extension": ".py",
   "mimetype": "text/x-python",
   "name": "python",
   "nbconvert_exporter": "python",
   "pygments_lexer": "ipython2",
   "version": "2.7.6"
  }
 },
 "nbformat": 4,
 "nbformat_minor": 0
}