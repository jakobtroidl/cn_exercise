{
 "cells": [
  {
   "cell_type": "code",
   "execution_count": 28,
   "outputs": [],
   "source": [
    "import numpy as np\n",
    "import matplotlib.pyplot as plt\n",
    "from scipy.fft import fft, ifft"
   ],
   "metadata": {
    "collapsed": false,
    "pycharm": {
     "name": "#%%\n"
    }
   }
  },
  {
   "cell_type": "markdown",
   "metadata": {
    "collapsed": true,
    "pycharm": {
     "name": "#%% md\n"
    }
   },
   "source": [
    "Task 13\n",
    "Polynomial Multiplication using FFT"
   ]
  },
  {
   "cell_type": "code",
   "execution_count": 29,
   "outputs": [],
   "source": [
    "n = 100\n",
    "def a(x):\n",
    "    sum = 0\n",
    "    for i in range(0, n + 1):\n",
    "        sum += x ** i\n",
    "    return sum\n",
    "\n",
    "def b(x):\n",
    "    sum = 0\n",
    "    for i in range(0, n + 1):\n",
    "        sum += i * (x ** i)\n",
    "    return sum"
   ],
   "metadata": {
    "collapsed": false,
    "pycharm": {
     "name": "#%%\n"
    }
   }
  },
  {
   "cell_type": "markdown",
   "source": [
    "evaluate polynomials at points $x_{k}$  and multiply the values of the two polynomials.\n",
    "Then determine coefficients from these values. Choose $x_{k}$ on the complex unit circle.\n",
    "$c_{i} = FFT^{-1}(c(x_{j}))$"
   ],
   "metadata": {
    "collapsed": false,
    "pycharm": {
     "name": "#%% md\n"
    }
   }
  },
  {
   "cell_type": "code",
   "execution_count": 30,
   "outputs": [
    {
     "name": "stdout",
     "output_type": "stream",
     "text": [
      "[1.26068573e-12 1.00000000e+00 3.00000000e+00 6.00000000e+00\n",
      " 1.00000000e+01 1.50000000e+01 2.10000000e+01 2.80000000e+01\n",
      " 3.60000000e+01 4.50000000e+01 5.50000000e+01 6.60000000e+01\n",
      " 7.80000000e+01 9.10000000e+01 1.05000000e+02 1.20000000e+02\n",
      " 1.36000000e+02 1.53000000e+02 1.71000000e+02 1.90000000e+02\n",
      " 2.10000000e+02 2.31000000e+02 2.53000000e+02 2.76000000e+02\n",
      " 3.00000000e+02 3.25000000e+02 3.51000000e+02 3.78000000e+02\n",
      " 4.06000000e+02 4.35000000e+02 4.65000000e+02 4.96000000e+02\n",
      " 5.28000000e+02 5.61000000e+02 5.95000000e+02 6.30000000e+02\n",
      " 6.66000000e+02 7.03000000e+02 7.41000000e+02 7.80000000e+02\n",
      " 8.20000000e+02 8.61000000e+02 9.03000000e+02 9.46000000e+02\n",
      " 9.90000000e+02 1.03500000e+03 1.08100000e+03 1.12800000e+03\n",
      " 1.17600000e+03 1.22500000e+03 1.27500000e+03 1.32600000e+03\n",
      " 1.37800000e+03 1.43100000e+03 1.48500000e+03 1.54000000e+03\n",
      " 1.59600000e+03 1.65300000e+03 1.71100000e+03 1.77000000e+03\n",
      " 1.83000000e+03 1.89100000e+03 1.95300000e+03 2.01600000e+03\n",
      " 2.08000000e+03 2.14500000e+03 2.21100000e+03 2.27800000e+03\n",
      " 2.34600000e+03 2.41500000e+03 2.48500000e+03 2.55600000e+03\n",
      " 2.62800000e+03 2.70100000e+03 2.77500000e+03 2.85000000e+03\n",
      " 2.92600000e+03 3.00300000e+03 3.08100000e+03 3.16000000e+03\n",
      " 3.24000000e+03 3.32100000e+03 3.40300000e+03 3.48600000e+03\n",
      " 3.57000000e+03 3.65500000e+03 3.74100000e+03 3.82800000e+03\n",
      " 3.91600000e+03 4.00500000e+03 4.09500000e+03 4.18600000e+03\n",
      " 4.27800000e+03 4.37100000e+03 4.46500000e+03 4.56000000e+03\n",
      " 4.65600000e+03 4.75300000e+03 4.85100000e+03 4.95000000e+03\n",
      " 5.05000000e+03 5.05000000e+03 5.04900000e+03 5.04700000e+03\n",
      " 5.04400000e+03 5.04000000e+03 5.03500000e+03 5.02900000e+03\n",
      " 5.02200000e+03 5.01400000e+03 5.00500000e+03 4.99500000e+03\n",
      " 4.98400000e+03 4.97200000e+03 4.95900000e+03 4.94500000e+03\n",
      " 4.93000000e+03 4.91400000e+03 4.89700000e+03 4.87900000e+03\n",
      " 4.86000000e+03 4.84000000e+03 4.81900000e+03 4.79700000e+03\n",
      " 4.77400000e+03 4.75000000e+03 4.72500000e+03 4.69900000e+03\n",
      " 4.67200000e+03 4.64400000e+03 4.61500000e+03 4.58500000e+03\n",
      " 4.55400000e+03 4.52200000e+03 4.48900000e+03 4.45500000e+03\n",
      " 4.42000000e+03 4.38400000e+03 4.34700000e+03 4.30900000e+03\n",
      " 4.27000000e+03 4.23000000e+03 4.18900000e+03 4.14700000e+03\n",
      " 4.10400000e+03 4.06000000e+03 4.01500000e+03 3.96900000e+03\n",
      " 3.92200000e+03 3.87400000e+03 3.82500000e+03 3.77500000e+03\n",
      " 3.72400000e+03 3.67200000e+03 3.61900000e+03 3.56500000e+03\n",
      " 3.51000000e+03 3.45400000e+03 3.39700000e+03 3.33900000e+03\n",
      " 3.28000000e+03 3.22000000e+03 3.15900000e+03 3.09700000e+03\n",
      " 3.03400000e+03 2.97000000e+03 2.90500000e+03 2.83900000e+03\n",
      " 2.77200000e+03 2.70400000e+03 2.63500000e+03 2.56500000e+03\n",
      " 2.49400000e+03 2.42200000e+03 2.34900000e+03 2.27500000e+03\n",
      " 2.20000000e+03 2.12400000e+03 2.04700000e+03 1.96900000e+03\n",
      " 1.89000000e+03 1.81000000e+03 1.72900000e+03 1.64700000e+03\n",
      " 1.56400000e+03 1.48000000e+03 1.39500000e+03 1.30900000e+03\n",
      " 1.22200000e+03 1.13400000e+03 1.04500000e+03 9.55000000e+02\n",
      " 8.64000000e+02 7.72000000e+02 6.79000000e+02 5.85000000e+02\n",
      " 4.90000000e+02 3.94000000e+02 2.97000000e+02 1.99000000e+02\n",
      " 1.00000000e+02 4.48135938e-15]\n"
     ]
    },
    {
     "data": {
      "text/plain": "<Figure size 432x288 with 1 Axes>",
      "image/png": "[encoded data removed]"
     },
     "metadata": {
      "needs_background": "light"
     },
     "output_type": "display_data"
    }
   ],
   "source": [
    "# pad the arrays with zeros in the end\n",
    "axj = fft(np.concatenate(([1 for i in range(0, n + 1)], [0 for i in range(0, n + 1)]), axis=None))\n",
    "bxj = fft(np.concatenate(([x for x in range(0, n + 1)], [0 for i in range(0, n + 1)]), axis=None))\n",
    "\n",
    "c = axj * bxj\n",
    "\n",
    "ci = np.real(ifft(c))\n",
    "\n",
    "print(ci)\n",
    "\n",
    "x = np.linspace(0, 3, n + 1)\n",
    "y = np.linspace(0, 0, n + 1)\n",
    "for i in range(0, len(x)):\n",
    "    y1 = np.polyval(ci, x[i])\n",
    "    y2 = a(x[i]) * b(x[i])\n",
    "    y[i] = abs(y1 - y2)\n",
    "\n",
    "plt.title(\"Multiplication error\")\n",
    "plt.xlabel(\"x input\")\n",
    "plt.ylabel(\"error\")\n",
    "\n",
    "plt.plot(x, y)\n",
    "plt.show()"
   ],
   "metadata": {
    "collapsed": false,
    "pycharm": {
     "name": "#%%\n"
    }
   }
  },
  {
   "cell_type": "markdown",
   "source": [
    "Task 14"
   ],
   "metadata": {
    "collapsed": false,
    "pycharm": {
     "name": "#%% md\n"
    }
   }
  },
  {
   "cell_type": "code",
   "execution_count": 30,
   "outputs": [],
   "source": [],
   "metadata": {
    "collapsed": false,
    "pycharm": {
     "name": "#%%\n"
    }
   }
  }
 ],
 "metadata": {
  "kernelspec": {
   "display_name": "Python 3",
   "language": "python",
   "name": "python3"
  },
  "language_info": {
   "codemirror_mode": {
    "name": "ipython",
    "version": 2
   },
   "file_extension": ".py",
   "mimetype": "text/x-python",
   "name": "python",
   "nbconvert_exporter": "python",
   "pygments_lexer": "ipython2",
   "version": "2.7.6"
  }
 },
 "nbformat": 4,
 "nbformat_minor": 0
}