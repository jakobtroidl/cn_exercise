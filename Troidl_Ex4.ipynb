{
 "cells": [
  {
   "cell_type": "code",
   "execution_count": 67,
   "outputs": [],
   "source": [
    "import numpy as np\n",
    "import matplotlib.pyplot as plt\n",
    "from scipy.fft import fft, ifft"
   ],
   "metadata": {
    "collapsed": false,
    "pycharm": {
     "name": "#%%\n"
    }
   }
  },
  {
   "cell_type": "markdown",
   "metadata": {
    "collapsed": true,
    "pycharm": {
     "name": "#%% md\n"
    }
   },
   "source": [
    "Task 13\n",
    "Polynomial Multiplication using FFT"
   ]
  },
  {
   "cell_type": "code",
   "execution_count": 68,
   "outputs": [],
   "source": [
    "n = 100\n",
    "def a(x):\n",
    "    sum = 0\n",
    "    for i in range(0, n + 1):\n",
    "        sum += x ** i\n",
    "    return sum\n",
    "\n",
    "def b(x):\n",
    "    sum = 0\n",
    "    for i in range(0, n + 1):\n",
    "        sum += i * (x ** i)\n",
    "    return sum"
   ],
   "metadata": {
    "collapsed": false,
    "pycharm": {
     "name": "#%%\n"
    }
   }
  },
  {
   "cell_type": "markdown",
   "source": [
    "evaluate polynomials at points $x_{k}$  and multiply the values of the two polynomials.\n",
    "Then determine coefficients from these values. Choose $x_{k}$ on the complex unit circle.\n",
    "$c_{i} = FFT^{-1}(c(x_{j}))$"
   ],
   "metadata": {
    "collapsed": false,
    "pycharm": {
     "name": "#%% md\n"
    }
   }
  },
  {
   "cell_type": "code",
   "execution_count": 69,
   "outputs": [
    {
     "name": "stdout",
     "output_type": "stream",
     "text": [
      "[0.000e+00 1.000e+00 3.000e+00 6.000e+00 1.000e+01 1.500e+01 2.100e+01\n",
      " 2.800e+01 3.600e+01 4.500e+01 5.500e+01 6.600e+01 7.800e+01 9.100e+01\n",
      " 1.050e+02 1.200e+02 1.360e+02 1.530e+02 1.710e+02 1.900e+02 2.100e+02\n",
      " 2.310e+02 2.530e+02 2.760e+02 3.000e+02 3.250e+02 3.510e+02 3.780e+02\n",
      " 4.060e+02 4.350e+02 4.650e+02 4.960e+02 5.280e+02 5.610e+02 5.950e+02\n",
      " 6.300e+02 6.660e+02 7.030e+02 7.410e+02 7.800e+02 8.200e+02 8.610e+02\n",
      " 9.030e+02 9.460e+02 9.900e+02 1.035e+03 1.081e+03 1.128e+03 1.176e+03\n",
      " 1.225e+03 1.275e+03 1.326e+03 1.378e+03 1.431e+03 1.485e+03 1.540e+03\n",
      " 1.596e+03 1.653e+03 1.711e+03 1.770e+03 1.830e+03 1.891e+03 1.953e+03\n",
      " 2.016e+03 2.080e+03 2.145e+03 2.211e+03 2.278e+03 2.346e+03 2.415e+03\n",
      " 2.485e+03 2.556e+03 2.628e+03 2.701e+03 2.775e+03 2.850e+03 2.926e+03\n",
      " 3.003e+03 3.081e+03 3.160e+03 3.240e+03 3.321e+03 3.403e+03 3.486e+03\n",
      " 3.570e+03 3.655e+03 3.741e+03 3.828e+03 3.916e+03 4.005e+03 4.095e+03\n",
      " 4.186e+03 4.278e+03 4.371e+03 4.465e+03 4.560e+03 4.656e+03 4.753e+03\n",
      " 4.851e+03 4.950e+03 5.050e+03 5.050e+03 5.049e+03 5.047e+03 5.044e+03\n",
      " 5.040e+03 5.035e+03 5.029e+03 5.022e+03 5.014e+03 5.005e+03 4.995e+03\n",
      " 4.984e+03 4.972e+03 4.959e+03 4.945e+03 4.930e+03 4.914e+03 4.897e+03\n",
      " 4.879e+03 4.860e+03 4.840e+03 4.819e+03 4.797e+03 4.774e+03 4.750e+03\n",
      " 4.725e+03 4.699e+03 4.672e+03 4.644e+03 4.615e+03 4.585e+03 4.554e+03\n",
      " 4.522e+03 4.489e+03 4.455e+03 4.420e+03 4.384e+03 4.347e+03 4.309e+03\n",
      " 4.270e+03 4.230e+03 4.189e+03 4.147e+03 4.104e+03 4.060e+03 4.015e+03\n",
      " 3.969e+03 3.922e+03 3.874e+03 3.825e+03 3.775e+03 3.724e+03 3.672e+03\n",
      " 3.619e+03 3.565e+03 3.510e+03 3.454e+03 3.397e+03 3.339e+03 3.280e+03\n",
      " 3.220e+03 3.159e+03 3.097e+03 3.034e+03 2.970e+03 2.905e+03 2.839e+03\n",
      " 2.772e+03 2.704e+03 2.635e+03 2.565e+03 2.494e+03 2.422e+03 2.349e+03\n",
      " 2.275e+03 2.200e+03 2.124e+03 2.047e+03 1.969e+03 1.890e+03 1.810e+03\n",
      " 1.729e+03 1.647e+03 1.564e+03 1.480e+03 1.395e+03 1.309e+03 1.222e+03\n",
      " 1.134e+03 1.045e+03 9.550e+02 8.640e+02 7.720e+02 6.790e+02 5.850e+02\n",
      " 4.900e+02 3.940e+02 2.970e+02 1.990e+02 1.000e+02 0.000e+00]\n"
     ]
    },
    {
     "data": {
      "text/plain": "<Figure size 432x288 with 1 Axes>",
      "image/png": "[encoded data removed]"
     },
     "metadata": {
      "needs_background": "light"
     },
     "output_type": "display_data"
    }
   ],
   "source": [
    "# pad the arrays with zeros in the end\n",
    "axj = fft(np.concatenate(([1 for i in range(0, n + 1)], [0 for i in range(0, n + 1)]), axis=None))\n",
    "bxj = fft(np.concatenate(([x for x in range(0, n + 1)], [0 for i in range(0, n + 1)]), axis=None))\n",
    "\n",
    "c = axj * bxj\n",
    "\n",
    "ci = np.real(ifft(c))\n",
    "\n",
    "print(np.around(ci, 2))\n",
    "\n",
    "x = np.linspace(0, 3, n + 1)\n",
    "y = np.linspace(0, 0, n + 1)\n",
    "for i in range(0, len(x)):\n",
    "    y1 = np.polyval(ci, x[i])\n",
    "    y2 = a(x[i]) * b(x[i])\n",
    "    y[i] = abs(y1 - y2)\n",
    "\n",
    "plt.title(\"Multiplication error\")\n",
    "plt.xlabel(\"x input\")\n",
    "plt.ylabel(\"error\")\n",
    "\n",
    "plt.plot(x, y)\n",
    "plt.show()"
   ],
   "metadata": {
    "collapsed": false,
    "pycharm": {
     "name": "#%%\n"
    }
   }
  },
  {
   "cell_type": "markdown",
   "source": [
    "Task 14"
   ],
   "metadata": {
    "collapsed": false,
    "pycharm": {
     "name": "#%% md\n"
    }
   }
  },
  {
   "cell_type": "code",
   "execution_count": 70,
   "outputs": [],
   "source": [
    "from scipy.integrate import quad"
   ],
   "metadata": {
    "collapsed": false,
    "pycharm": {
     "name": "#%%\n"
    }
   }
  },
  {
   "cell_type": "markdown",
   "source": [
    "## Task 15\n",
    "Study convergence of numerical integration"
   ],
   "metadata": {
    "collapsed": false,
    "pycharm": {
     "name": "#%% md\n"
    }
   }
  },
  {
   "cell_type": "code",
   "execution_count": 71,
   "outputs": [],
   "source": [
    "def f2(x):\n",
    "    return np.sqrt(x)\n",
    "\n",
    "def f1(x):\n",
    "    return np.exp(x)"
   ],
   "metadata": {
    "collapsed": false,
    "pycharm": {
     "name": "#%%\n"
    }
   }
  },
  {
   "cell_type": "code",
   "execution_count": 72,
   "outputs": [],
   "source": [
    "def ni(f, a, b, m, qr):\n",
    "    # f - function to be integrated\n",
    "    # a - lower integration boundary\n",
    "    # b - upper integration boundary\n",
    "    # m - amount of sub intervals\n",
    "    # qr - quadrature rule\n",
    "    h = (b - a) / m\n",
    "    x = [a + i * h for i in range(0, m)]\n",
    "    o_sum = 0\n",
    "    for j in range(0, m - 1):\n",
    "        hj = x[j + 1] - x[j]\n",
    "        i_sum = 0\n",
    "        for k in range(0, len(qr)):\n",
    "            ck = qr[k][0]\n",
    "            wk = qr[k][1]\n",
    "            i_sum += wk * f(x[j] + ck * hj)\n",
    "        o_sum += hj * i_sum\n",
    "    return o_sum\n"
   ],
   "metadata": {
    "collapsed": false,
    "pycharm": {
     "name": "#%%\n"
    }
   }
  },
  {
   "cell_type": "markdown",
   "source": [
    "Use numerical integration"
   ],
   "metadata": {
    "collapsed": false,
    "pycharm": {
     "name": "#%% md\n"
    }
   }
  },
  {
   "cell_type": "code",
   "execution_count": 73,
   "outputs": [],
   "source": [
    "def plot_convergence(func, f_name):\n",
    "    M = [2**i for i in range(0, 6)]\n",
    "    a = 0\n",
    "    b = 1\n",
    "    gt, err = quad(f1, a, b)\n",
    "\n",
    "    exp_trap = [abs(gt - ni(func, a, b, M[i], [[0, 0.5], [1, 0.5]])) for i in range(0, len(M))]\n",
    "    exp_simp = [abs(gt - ni(func, a, b, M[i], [[0, 1/6], [0.5, 2/3], [1, 1/6]])) for i in range(0, len(M))]\n",
    "    exp_midpoint = [abs(gt - ni(func, a, b, M[i], [[0.5, 1]])) for i in range(0, len(M))]\n",
    "    exp_gaussian = [abs(gt - ni(func, a, b, M[i], [[0.5 - 0.5 / np.sqrt(3), 0.5], [0.5 + 0.5 / np.sqrt(3), 0.5]])) for i in range(0, len(M))]\n",
    "\n",
    "\n",
    "    plt.title(\"NI error for \" + f_name)\n",
    "    plt.plot(M, exp_trap, label=\"trapezoidal\")\n",
    "    plt.plot(M, exp_simp, label=\"simpson\")\n",
    "    plt.plot(M, exp_midpoint, label=\"mid-point\")\n",
    "    plt.plot(M, exp_gaussian, label=\"2-d gaussian\")\n",
    "\n",
    "    plt.legend()\n",
    "    plt.xlabel(\"# of sub intervals\")\n",
    "    plt.ylabel(\"integration error\")\n",
    "    plt.show()"
   ],
   "metadata": {
    "collapsed": false,
    "pycharm": {
     "name": "#%%\n"
    }
   }
  },
  {
   "cell_type": "code",
   "execution_count": 74,
   "outputs": [
    {
     "data": {
      "text/plain": "<Figure size 432x288 with 1 Axes>",
      "image/png": "[encoded data removed]"
     },
     "metadata": {
      "needs_background": "light"
     },
     "output_type": "display_data"
    },
    {
     "data": {
      "text/plain": "<Figure size 432x288 with 1 Axes>",
      "image/png": "[encoded data removed]"
     },
     "metadata": {
      "needs_background": "light"
     },
     "output_type": "display_data"
    }
   ],
   "source": [
    "plot_convergence(f1, \"f(x) = e^x\")\n",
    "\n",
    "plot_convergence(f2, \"f(x) = sqrt(x)\")"
   ],
   "metadata": {
    "collapsed": false,
    "pycharm": {
     "name": "#%%\n"
    }
   }
  }
 ],
 "metadata": {
  "kernelspec": {
   "display_name": "Python 3",
   "language": "python",
   "name": "python3"
  },
  "language_info": {
   "codemirror_mode": {
    "name": "ipython",
    "version": 2
   },
   "file_extension": ".py",
   "mimetype": "text/x-python",
   "name": "python",
   "nbconvert_exporter": "python",
   "pygments_lexer": "ipython2",
   "version": "2.7.6"
  }
 },
 "nbformat": 4,
 "nbformat_minor": 0
}